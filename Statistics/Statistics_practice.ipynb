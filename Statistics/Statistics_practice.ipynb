{
 "cells": [
  {
   "cell_type": "markdown",
   "metadata": {},
   "source": [
    "<center><h1>Statistic</h1></center>"
   ]
  },
  {
   "cell_type": "markdown",
   "metadata": {},
   "source": [
    "<img src=\"https://fiverr-res.cloudinary.com/images/t_main1,q_auto,f_auto/gigs/105100081/original/b508ab6dd88851cf41a84b367f661443a02aa202/provide-you-best-solution-about-stat-math-and-computer.jpg\"/>"
   ]
  },
  {
   "cell_type": "code",
   "execution_count": 34,
   "metadata": {},
   "outputs": [],
   "source": [
    "import os\n",
    "import math\n",
    "import random\n",
    "import numpy as np\n",
    "import pandas as pd\n",
    "import scipy.stats as stats\n",
    "import matplotlib.pyplot as plt"
   ]
  },
  {
   "cell_type": "code",
   "execution_count": 36,
   "metadata": {},
   "outputs": [],
   "source": [
    "os.chdir(r\"C:\\Users\\kjk\\Desktop\\AcadGild\\Data Science\\2-Data Cleaning\\NUMPY & PANDAS\\Pandas\\Practice\\Datasets\")"
   ]
  },
  {
   "cell_type": "code",
   "execution_count": 38,
   "metadata": {
    "scrolled": true
   },
   "outputs": [
    {
     "name": "stdout",
     "output_type": "stream",
     "text": [
      "<class 'pandas.core.frame.DataFrame'>\n",
      "RangeIndex: 614 entries, 0 to 613\n",
      "Data columns (total 13 columns):\n",
      "Loan_ID              614 non-null object\n",
      "Gender               601 non-null object\n",
      "Married              611 non-null object\n",
      "Dependents           599 non-null object\n",
      "Education            614 non-null object\n",
      "Self_Employed        582 non-null object\n",
      "ApplicantIncome      614 non-null int64\n",
      "CoapplicantIncome    614 non-null float64\n",
      "LoanAmount           592 non-null float64\n",
      "Loan_Amount_Term     600 non-null float64\n",
      "Credit_History       564 non-null float64\n",
      "Property_Area        614 non-null object\n",
      "Loan_Status          614 non-null object\n",
      "dtypes: float64(4), int64(1), object(8)\n",
      "memory usage: 62.4+ KB\n"
     ]
    }
   ],
   "source": [
    "data = pd.read_csv(\"LoanPredictionTraining.csv\")\n",
    "data.info()"
   ]
  },
  {
   "cell_type": "markdown",
   "metadata": {},
   "source": [
    "### Measure of Central tendency"
   ]
  },
  {
   "cell_type": "code",
   "execution_count": 40,
   "metadata": {},
   "outputs": [
    {
     "name": "stdout",
     "output_type": "stream",
     "text": [
      "Mean:  5403.459283387622 \n",
      "Median:  3812.5 \n",
      "Mode:  2500\n"
     ]
    }
   ],
   "source": [
    "income = data['ApplicantIncome']\n",
    "\n",
    "mean=income.mean()\n",
    "median=income.median()\n",
    "mode=income.mode()\n",
    "\n",
    "print('Mean: ',mean,'\\nMedian: ',median,'\\nMode: ',mode[0])"
   ]
  },
  {
   "cell_type": "code",
   "execution_count": 41,
   "metadata": {},
   "outputs": [
    {
     "data": {
      "text/plain": [
       "0    2500\n",
       "dtype: int64"
      ]
     },
     "execution_count": 41,
     "metadata": {},
     "output_type": "execute_result"
    }
   ],
   "source": [
    "mode"
   ]
  },
  {
   "cell_type": "markdown",
   "metadata": {},
   "source": [
    "### Measure of Dispersion"
   ]
  },
  {
   "cell_type": "code",
   "execution_count": 42,
   "metadata": {},
   "outputs": [
    {
     "data": {
      "text/plain": [
       "80850"
      ]
     },
     "execution_count": 42,
     "metadata": {},
     "output_type": "execute_result"
    }
   ],
   "source": [
    "##### Range, Max, Minimum \n",
    "maxim = income.max()\n",
    "minim = income.min()\n",
    "rang = maxim - minim\n",
    "rang"
   ]
  },
  {
   "cell_type": "code",
   "execution_count": 43,
   "metadata": {},
   "outputs": [
    {
     "name": "stdout",
     "output_type": "stream",
     "text": [
      "6109.041673387174\n"
     ]
    },
    {
     "data": {
      "text/plain": [
       "6109.041673387174"
      ]
     },
     "execution_count": 43,
     "metadata": {},
     "output_type": "execute_result"
    }
   ],
   "source": [
    "from math import sqrt\n",
    "# ##### Standard Deviation and Variance\n",
    "print(sqrt(income.var()))\n",
    "income.std()"
   ]
  },
  {
   "cell_type": "code",
   "execution_count": 44,
   "metadata": {},
   "outputs": [
    {
     "name": "stdout",
     "output_type": "stream",
     "text": [
      "q1:  2877.5 \n",
      "q2:  3812.5 \n",
      "q2:  5795.0\n",
      "Interquartile Range:- 2917.5\n"
     ]
    }
   ],
   "source": [
    "##### Interquartile Range\n",
    "q1 = income.quantile(0.25)\n",
    "q2 = income.quantile(0.50)\n",
    "q3 = income.quantile(0.75)\n",
    "print('q1: ',q1,'\\nq2: ',q2,'\\nq2: ',q3)\n",
    "iqr = q3 - q1\n",
    "print('Interquartile Range:-',iqr)"
   ]
  },
  {
   "cell_type": "markdown",
   "metadata": {},
   "source": [
    "### Measure of Shape"
   ]
  },
  {
   "cell_type": "code",
   "execution_count": 45,
   "metadata": {},
   "outputs": [
    {
     "name": "stdout",
     "output_type": "stream",
     "text": [
      "6.539513113994625\n"
     ]
    },
    {
     "data": {
      "text/plain": [
       "60.54067593369113"
      ]
     },
     "execution_count": 45,
     "metadata": {},
     "output_type": "execute_result"
    }
   ],
   "source": [
    "print(income.skew())\n",
    "income.kurt()"
   ]
  },
  {
   "cell_type": "code",
   "execution_count": 46,
   "metadata": {},
   "outputs": [
    {
     "data": {
      "image/png": "[encoded data removed]",
      "text/plain": [
       "<Figure size 720x360 with 1 Axes>"
      ]
     },
     "metadata": {
      "needs_background": "light"
     },
     "output_type": "display_data"
    }
   ],
   "source": [
    "import matplotlib.pyplot as plt\n",
    "\n",
    "plt.figure(figsize=(10,5))\n",
    "plt.hist(data[\"ApplicantIncome\"], bins=30, color='grey')\n",
    "plt.axvline(mean, color='red', label='Mean')\n",
    "plt.axvline(median,color='yellow',label='Median')\n",
    "plt.axvline(mode[0],color='green',label='Mode')\n",
    "plt.xlabel('LoanAmount')\n",
    "plt.ylabel('Frequency')\n",
    "plt.legend()\n",
    "plt.show()"
   ]
  },
  {
   "cell_type": "markdown",
   "metadata": {
    "collapsed": true
   },
   "source": [
    "<center><h1>Descrete probability Distribution</h1></center>"
   ]
  },
  {
   "cell_type": "markdown",
   "metadata": {},
   "source": [
    "### NOTE: Before Started Descrete  Probability Distribution. I want disscuss few method. "
   ]
  },
  {
   "cell_type": "markdown",
   "metadata": {},
   "source": [
    "#### Probability Mass Function:\n",
    "           In probability and statistics, a probability mass function (PMF) is a function that gives the probability that a discrete random variable is exactly equal to some value. ... The value of the random variable having the largest probability mass is called the mode.\n",
    "           PMF=P(X=x)"
   ]
  },
  {
   "cell_type": "markdown",
   "metadata": {},
   "source": [
    "#### Cumulative distribution function:\n",
    "           In probability theory and statistics, the cumulative distribution function (CDF) of a real-valued random variable , or just distribution function of , evaluated at , is the probability that will take a value less than or equal to.\n",
    "<img src='https://wikimedia.org/api/rest_v1/media/math/render/svg/f81c05aba576a12b4e05ee3f4cba709dd16139c7'/>\n",
    "<img src='https://wikimedia.org/api/rest_v1/media/math/render/svg/2cd46015ef99275b537dd0d116b00721a216b2cc'/>\n",
    "<img src='https://wikimedia.org/api/rest_v1/media/math/render/svg/d15665a3d46120b6740ccce9d8e32ec9458c37a8'/>"
   ]
  },
  {
   "cell_type": "markdown",
   "metadata": {},
   "source": [
    "### Binomial probability Distribution"
   ]
  },
  {
   "cell_type": "code",
   "execution_count": 1,
   "metadata": {},
   "outputs": [],
   "source": [
    "from scipy import stats\n",
    "import scipy\n"
   ]
  },
  {
   "cell_type": "markdown",
   "metadata": {},
   "source": [
    "Example:-we flip a coin 10 times find the probability that 6 head are obtained.<br>\n",
    "P(x=6),n=10,P=1/2=0.5`"
   ]
  },
  {
   "cell_type": "code",
   "execution_count": 8,
   "metadata": {},
   "outputs": [
    {
     "data": {
      "text/plain": [
       "0.20507812500000022"
      ]
     },
     "execution_count": 8,
     "metadata": {},
     "output_type": "execute_result"
    }
   ],
   "source": [
    "stats.binom.pmf(6,10,0.5)"
   ]
  },
  {
   "cell_type": "markdown",
   "metadata": {},
   "source": [
    "Example-2:<br>\n",
    "we flip a coin 10 times find the probability that at most 5 head are obtained.<br>\n",
    "\n",
    "at most 5=P(X<=5)=P(X=0)+P(X=1)+P(X=2).....P(X=5)"
   ]
  },
  {
   "cell_type": "code",
   "execution_count": 6,
   "metadata": {},
   "outputs": [
    {
     "data": {
      "text/plain": [
       "0.6230468749999999"
      ]
     },
     "execution_count": 6,
     "metadata": {},
     "output_type": "execute_result"
    }
   ],
   "source": [
    "# a=stats.binom.pmf(0,10,0.5)\n",
    "# b=stats.binom.pmf(1,10,0.5)\n",
    "# c=stats.binom.pmf(2,10,0.5)\n",
    "# d=stats.binom.pmf(3,10,0.5)\n",
    "# e=stats.binom.pmf(4,10,0.5)\n",
    "# f=stats.binom.pmf(5,10,0.5)\n",
    "\n",
    "# CDF=a+b+c+d+e+f\n",
    "# print(CDF)\n",
    "\n",
    "stats.binom.cdf(5,10,0.5)\n"
   ]
  },
  {
   "cell_type": "markdown",
   "metadata": {},
   "source": [
    "Example-3 we flip a coin 10 times find the probability that at least 5 head are obtained.<br>\n",
    "at least 5=P(X>=5)<br>\n",
    "P(X>=5)=1-cdf(5)=1-P(X<=4)"
   ]
  },
  {
   "cell_type": "code",
   "execution_count": 7,
   "metadata": {},
   "outputs": [
    {
     "data": {
      "text/plain": [
       "0.6230468749999999"
      ]
     },
     "execution_count": 7,
     "metadata": {},
     "output_type": "execute_result"
    }
   ],
   "source": [
    "cdf=stats.binom.cdf(4,10,0.5)\n",
    "1-cdf"
   ]
  },
  {
   "cell_type": "markdown",
   "metadata": {},
   "source": [
    "### Problem \n",
    "find the value of binomial randome variable that probability taking that or less than that is 0.7<br>\n",
    "p=0.2<br>\n",
    "n=10<br>\n",
    "NOTE:- New method PPF to used find the Inverse of CDF"
   ]
  },
  {
   "cell_type": "code",
   "execution_count": 51,
   "metadata": {},
   "outputs": [
    {
     "data": {
      "text/plain": [
       "3.0"
      ]
     },
     "execution_count": 51,
     "metadata": {},
     "output_type": "execute_result"
    }
   ],
   "source": [
    "stats.binom.ppf(0.7,10,0.2)"
   ]
  },
  {
   "cell_type": "markdown",
   "metadata": {},
   "source": [
    "### Creating Bar plot for Binomial Distribution"
   ]
  },
  {
   "cell_type": "code",
   "execution_count": 52,
   "metadata": {},
   "outputs": [
    {
     "data": {
      "image/png": "[encoded data removed]",
      "text/plain": [
       "<Figure size 432x288 with 1 Axes>"
      ]
     },
     "metadata": {
      "needs_background": "light"
     },
     "output_type": "display_data"
    }
   ],
   "source": [
    "import matplotlib.pyplot as plt\n",
    "n=12\n",
    "p=0.5\n",
    "x=scipy.linspace(0,10,11)\n",
    "pmf=scipy.stats.binom.pmf(x,n,p)\n",
    "plt.bar(x,pmf)\n",
    "plt.show()"
   ]
  },
  {
   "cell_type": "markdown",
   "metadata": {},
   "source": [
    "### Poission probability Distribution"
   ]
  },
  {
   "cell_type": "markdown",
   "metadata": {},
   "source": [
    "Example-The number of typographical errors in new editions of textbooks varies considerably from book to book. After some\n",
    "analysis it concludes that the number of errors is Poisson distributed with a mean of 1.5 per 100 pages. The instructor\n",
    "randomly selects 100 pages of a new book. What is the probability that there are no typos?\n",
    "That is, what is P(X=0) given that μ = 1.5?"
   ]
  },
  {
   "cell_type": "code",
   "execution_count": 9,
   "metadata": {},
   "outputs": [
    {
     "data": {
      "text/plain": [
       "0.22313016014842982"
      ]
     },
     "execution_count": 9,
     "metadata": {},
     "output_type": "execute_result"
    }
   ],
   "source": [
    "stats.poisson.pmf(0,1.5)"
   ]
  },
  {
   "cell_type": "markdown",
   "metadata": {},
   "source": [
    "Note:- What is the probability that number of errors is 2 Poisson distributed with a mean of 1.5 per 100 pages. "
   ]
  },
  {
   "cell_type": "code",
   "execution_count": 12,
   "metadata": {},
   "outputs": [
    {
     "data": {
      "text/plain": [
       "0.25102143016698353"
      ]
     },
     "execution_count": 12,
     "metadata": {},
     "output_type": "execute_result"
    }
   ],
   "source": [
    "stats.poisson.pmf(2,1.5)"
   ]
  },
  {
   "cell_type": "markdown",
   "metadata": {},
   "source": [
    "Note:- What is the probability that there are no typos on 200 page<br>\n",
    "100 page mean=1.5<br>\n",
    "now 200 pages so mean=3"
   ]
  },
  {
   "cell_type": "code",
   "execution_count": 13,
   "metadata": {},
   "outputs": [
    {
     "data": {
      "text/plain": [
       "0.049787068367863944"
      ]
     },
     "execution_count": 13,
     "metadata": {},
     "output_type": "execute_result"
    }
   ],
   "source": [
    "stats.poisson.pmf(0,3)"
   ]
  },
  {
   "cell_type": "markdown",
   "metadata": {},
   "source": [
    "Note:- at least 5 error on 100 page.<br>\n",
    "at least 5=P(X>=5)<br>\n",
    "P(X>=5)=1-cdf=1-P(X<=4)"
   ]
  },
  {
   "cell_type": "code",
   "execution_count": 16,
   "metadata": {},
   "outputs": [
    {
     "data": {
      "text/plain": [
       "0.01857593622214071"
      ]
     },
     "execution_count": 16,
     "metadata": {},
     "output_type": "execute_result"
    }
   ],
   "source": [
    "cdf=stats.poisson.cdf(4,1.5)\n",
    "prob=1-cdf\n",
    "prob"
   ]
  },
  {
   "cell_type": "markdown",
   "metadata": {},
   "source": [
    "➢ The probability of success is proportional to the size of the interval.<br>\n",
    "➢ Thus knowing an error rate of 1.5 typos per 100 pages, we can determine a mean value for a 400 page book as:<br>\n",
    "μ = 1.5 (4) = 6 typos/400 pages"
   ]
  },
  {
   "cell_type": "code",
   "execution_count": 17,
   "metadata": {},
   "outputs": [
    {
     "data": {
      "text/plain": [
       "0.0024787521766663585"
      ]
     },
     "execution_count": 17,
     "metadata": {},
     "output_type": "execute_result"
    }
   ],
   "source": [
    "stats.poisson.pmf(0,6)"
   ]
  },
  {
   "cell_type": "markdown",
   "metadata": {},
   "source": [
    "### Creating Bar plot for Poisson Distribution"
   ]
  },
  {
   "cell_type": "code",
   "execution_count": 18,
   "metadata": {},
   "outputs": [
    {
     "data": {
      "text/plain": [
       "<Figure size 640x480 with 1 Axes>"
      ]
     },
     "metadata": {},
     "output_type": "display_data"
    }
   ],
   "source": [
    "import matplotlib.pyplot as plt\n",
    "lambda_value=2.3\n",
    "mean=2.3\n",
    "x=scipy.linspace(0,10,11)\n",
    "pmf=scipy.stats.poisson.pmf(x,mean)\n",
    "plt.bar(x,pmf)\n",
    "plt.show()"
   ]
  },
  {
   "cell_type": "markdown",
   "metadata": {},
   "source": [
    "#### Question\n",
    "for the case of thin copper wire , suppose that the number of flaws follow a poisson distribution with a mean of 2.3 flaws per\n",
    "milimeter"
   ]
  },
  {
   "cell_type": "markdown",
   "metadata": {},
   "source": [
    "A. determind the probability of exact two flaws in 1 milimeter wires.<br>"
   ]
  },
  {
   "cell_type": "code",
   "execution_count": 59,
   "metadata": {},
   "outputs": [
    {
     "data": {
      "text/plain": [
       "0.2651846416468159"
      ]
     },
     "execution_count": 59,
     "metadata": {},
     "output_type": "execute_result"
    }
   ],
   "source": [
    "scipy.stats.poisson.pmf(2,2.3)"
   ]
  },
  {
   "cell_type": "markdown",
   "metadata": {},
   "source": [
    "B. determine the probability of at least one flaws in 2 milimeter of wires<br>\n",
    "lambda=2.3<br>\n",
    "2 milimeter=2*2.3=4.6<br>\n",
    "Note: at least one P(X>=1)=1-P(X<1)=1-P(X=0)<br>\n",
    "1-cdf=1-p(X=0)"
   ]
  },
  {
   "cell_type": "code",
   "execution_count": 60,
   "metadata": {},
   "outputs": [
    {
     "data": {
      "text/plain": [
       "0.9899481642553665"
      ]
     },
     "execution_count": 60,
     "metadata": {},
     "output_type": "execute_result"
    }
   ],
   "source": [
    "cdf=scipy.stats.poisson.cdf(0,4.6)\n",
    "1-cdf"
   ]
  },
  {
   "cell_type": "markdown",
   "metadata": {},
   "source": [
    "#### Example 4\n",
    "Vehicles pass through a junction on a busy road at an average rate of \\displaystyle{300}300 per hour.<br>\n",
    "\n",
    "(a)Find the probability that none passes in a given minute.<br>\n",
    "\n",
    "(b)What is the expected number passing in two minutes?<br>\n",
    "\n",
    "(c)Find the probability that this expected number actually pass through in a given two-minute period.\n",
    "\n",
    "average rate=300 in hour\n",
    "\n",
    "Mean=300/60=5\n",
    "\n"
   ]
  },
  {
   "cell_type": "code",
   "execution_count": 61,
   "metadata": {},
   "outputs": [
    {
     "data": {
      "text/plain": [
       "0.006737946999085467"
      ]
     },
     "execution_count": 61,
     "metadata": {},
     "output_type": "execute_result"
    }
   ],
   "source": [
    "# (a)Find the probability that none passes in a given minute.\n",
    "scipy.stats.poisson.pmf(0,5)"
   ]
  },
  {
   "cell_type": "code",
   "execution_count": 62,
   "metadata": {},
   "outputs": [],
   "source": [
    "# (b)What is the expected number passing in two minutes?\n",
    "# Mean=5 for o min\n",
    "# now 2 min\n",
    "# Mean*2=5*2=10"
   ]
  },
  {
   "cell_type": "code",
   "execution_count": 63,
   "metadata": {},
   "outputs": [
    {
     "data": {
      "text/plain": [
       "0.12511003572113372"
      ]
     },
     "execution_count": 63,
     "metadata": {},
     "output_type": "execute_result"
    }
   ],
   "source": [
    "# (c)Find the probability that this expected number actually pass through in a given two-minute period.\n",
    "scipy.stats.poisson.pmf(10,10)"
   ]
  },
  {
   "cell_type": "code",
   "execution_count": 64,
   "metadata": {},
   "outputs": [
    {
     "data": {
      "image/png": "[encoded data removed]",
      "text/plain": [
       "<Figure size 432x288 with 1 Axes>"
      ]
     },
     "metadata": {
      "needs_background": "light"
     },
     "output_type": "display_data"
    }
   ],
   "source": [
    "import matplotlib.pyplot as plt\n",
    "lambda_value=5\n",
    "mean=10\n",
    "x=scipy.linspace(0,20,11)\n",
    "# x=list(range(2,20,2))\n",
    "pmf=scipy.stats.poisson.pmf(x,mean)\n",
    "plt.bar(x,pmf)\n",
    "plt.show()"
   ]
  },
  {
   "cell_type": "markdown",
   "metadata": {},
   "source": [
    "#### Example 1\n",
    "The mean number of typing errors in a document is 1.5 per page.<br>\n",
    "Find the probability that on a page chosen at random there are:<br>\n",
    "(i) no mistakes,<br>\n",
    "(ii) more than 2 mistakes. "
   ]
  },
  {
   "cell_type": "code",
   "execution_count": 65,
   "metadata": {},
   "outputs": [
    {
     "data": {
      "text/plain": [
       "0.22313016014842982"
      ]
     },
     "execution_count": 65,
     "metadata": {},
     "output_type": "execute_result"
    }
   ],
   "source": [
    "# (i) no mistakes,\n",
    "scipy.stats.poisson.pmf(0,1.5)"
   ]
  },
  {
   "cell_type": "code",
   "execution_count": 66,
   "metadata": {},
   "outputs": [
    {
     "name": "stdout",
     "output_type": "stream",
     "text": [
      "CDF: 0.8088468305380582\n"
     ]
    },
    {
     "data": {
      "text/plain": [
       "0.19115316946194183"
      ]
     },
     "execution_count": 66,
     "metadata": {},
     "output_type": "execute_result"
    }
   ],
   "source": [
    "# (ii) more than 2 mistakes\n",
    "# P(x>2)=1-cfd(2)=1-P(x<=2)\n",
    "\n",
    "cdf=scipy.stats.poisson.cdf(2,1.5)\n",
    "print(\"CDF:\",cdf)\n",
    "1-cdf\n"
   ]
  },
  {
   "cell_type": "markdown",
   "metadata": {},
   "source": [
    "#### Example-2\n",
    "The number of cars passing a point on a country lane has a mean 1.8 per minute. Using the Poisson distribution,<br>\n",
    "find the probability that in any one minute there are:<br>\n",
    "(i) no cars, (ii) 1 car, (iii) 2 cars, (iv) 3 cars, (v) more than 3 cars. "
   ]
  },
  {
   "cell_type": "code",
   "execution_count": 67,
   "metadata": {},
   "outputs": [
    {
     "name": "stdout",
     "output_type": "stream",
     "text": [
      "probability for 0 cars 0.16529888822158653\n",
      "probability for exaxt 1 cars 0.2975379987988558\n",
      "probability for exaxt 2 cars 0.26778419891897026\n",
      "probability for exaxt 3 cars 0.16067051935138213\n",
      "probability for more than 3 cars 0.10870839470920546\n"
     ]
    }
   ],
   "source": [
    "# (1)\n",
    "a=scipy.stats.poisson.pmf(0,1.8)\n",
    "print(\"probability for 0 cars\",a)\n",
    "\n",
    "# exaxt 1 cars\n",
    "b=scipy.stats.poisson.pmf(1,1.8)\n",
    "print(\"probability for exaxt 1 cars\",b)\n",
    "\n",
    "# exaxt 2 cars\n",
    "c=scipy.stats.poisson.pmf(2,1.8)\n",
    "print(\"probability for exaxt 2 cars\",c)\n",
    "\n",
    "# exaxt 3 cars\n",
    "d=scipy.stats.poisson.pmf(3,1.8)\n",
    "print(\"probability for exaxt 3 cars\",d)\n",
    "\n",
    "# more than 3 car\n",
    "cdf=scipy.stats.poisson.cdf(3,1.8)\n",
    "e=1-cdf\n",
    "print(\"probability for more than 3 cars\",e)"
   ]
  },
  {
   "cell_type": "markdown",
   "metadata": {},
   "source": [
    "#### Example-3\n",
    "A fire station experiences an average call-out rate of 2.2 every period of three hours.\n",
    "Using the Poisson distribution, find the probability that in any period of 3 hours there will be<br>\n",
    "(i) no callouts, (ii) 1 callout, (iii) 2 callouts, (iv) 3 callouts,\n",
    "(v) 4 callouts, (v) more than 4 callouts"
   ]
  },
  {
   "cell_type": "code",
   "execution_count": 68,
   "metadata": {},
   "outputs": [
    {
     "name": "stdout",
     "output_type": "stream",
     "text": [
      "probability for more than 4 callouts 0.07249630885779967\n"
     ]
    }
   ],
   "source": [
    "# (i) no callouts\n",
    "scipy.stats.poisson.pmf(0,2.2)\n",
    "\n",
    "# (v) more than 4 callouts\n",
    "# P(X>4)=1-cdf(4)=1-P(X<=4)\n",
    "cdf=scipy.stats.poisson.cdf(4,2.2)\n",
    "p=1-cdf\n",
    "print(\"probability for more than 4 callouts\",p)"
   ]
  },
  {
   "cell_type": "markdown",
   "metadata": {},
   "source": [
    "#### Example-4\n",
    "The number of radioactive particles emitted in a minute from a meteorite is recorded on a\n",
    "Geiger counter. The mean number is found to be 3.5 per minute. Using the Poisson\n",
    "distribution, find the probability that in any one minute there are<br>\n",
    "(i) no particles,\n",
    "(ii) 2 particles,\n",
    "(iii) at least 5 particles."
   ]
  },
  {
   "cell_type": "code",
   "execution_count": 69,
   "metadata": {},
   "outputs": [
    {
     "data": {
      "text/plain": [
       "0.27455504669039565"
      ]
     },
     "execution_count": 69,
     "metadata": {},
     "output_type": "execute_result"
    }
   ],
   "source": [
    "# (iii) at least 5 particles.\n",
    "# P(X>=5)=1-cdf(5)=1-P(X<=4)\n",
    "cdf=scipy.stats.poisson.cdf(4,3.5)\n",
    "1-cdf"
   ]
  },
  {
   "cell_type": "code",
   "execution_count": 70,
   "metadata": {},
   "outputs": [
    {
     "data": {
      "text/plain": [
       "0.950212931632136"
      ]
     },
     "execution_count": 70,
     "metadata": {},
     "output_type": "execute_result"
    }
   ],
   "source": [
    "# at least one\n",
    "# P(X>=1)=1-cdf(1)=1-P(X=0)\n",
    "cdf=scipy.stats.poisson.cdf(0,3)\n",
    "1-cdf"
   ]
  },
  {
   "cell_type": "markdown",
   "metadata": {},
   "source": [
    "<center><h1>Continuous probability Distribution</h1></center>"
   ]
  },
  {
   "cell_type": "code",
   "execution_count": 71,
   "metadata": {},
   "outputs": [],
   "source": [
    "from scipy import stats\n",
    "import matplotlib.pyplot as plt\n",
    "import numpy as np\n",
    "import scipy"
   ]
  },
  {
   "cell_type": "code",
   "execution_count": 72,
   "metadata": {},
   "outputs": [
    {
     "data": {
      "text/plain": [
       "0.03520653267642995"
      ]
     },
     "execution_count": 72,
     "metadata": {},
     "output_type": "execute_result"
    }
   ],
   "source": [
    "#probability density function\n",
    "scipy.stats.norm(50,10).pdf(45)"
   ]
  },
  {
   "cell_type": "code",
   "execution_count": 73,
   "metadata": {},
   "outputs": [
    {
     "data": {
      "text/plain": [
       "0.532807207342556"
      ]
     },
     "execution_count": 73,
     "metadata": {},
     "output_type": "execute_result"
    }
   ],
   "source": [
    "# Calculating Normal Probabilities\n",
    "# P(45 < X < 60)?\n",
    "# cumulative density function\n",
    "# CDF gives the probability that the variate has a value less than or equal to the given value.\n",
    "scipy.stats.norm(50,10).cdf(45) #= P(X <= 45) ~N(50, 10)\n",
    "scipy.stats.norm(50,10).cdf(60) - scipy.stats.norm(50,10).cdf(45)"
   ]
  },
  {
   "cell_type": "markdown",
   "metadata": {},
   "source": [
    "Using the Normal Table\n",
    "What is P(Z > 1.6) ?"
   ]
  },
  {
   "cell_type": "code",
   "execution_count": 74,
   "metadata": {},
   "outputs": [
    {
     "data": {
      "text/plain": [
       "0.054799291699557995"
      ]
     },
     "execution_count": 74,
     "metadata": {},
     "output_type": "execute_result"
    }
   ],
   "source": [
    "#= P(X <= 45) ~N(50, 10)\n",
    "a=scipy.stats.norm(0,1).cdf(0) \n",
    "b=scipy.stats.norm(0,1).cdf(1.6)\n",
    "# P(Z > 1.6) = .5 – P(0 < Z < 1.6)\n",
    "1-b"
   ]
  },
  {
   "cell_type": "markdown",
   "metadata": {},
   "source": [
    "What is P(Z < -2.23) ?"
   ]
  },
  {
   "cell_type": "code",
   "execution_count": 75,
   "metadata": {},
   "outputs": [
    {
     "data": {
      "text/plain": [
       "0.012873721438602014"
      ]
     },
     "execution_count": 75,
     "metadata": {},
     "output_type": "execute_result"
    }
   ],
   "source": [
    "# find total using simple form\n",
    "scipy.stats.norm(0,1).cdf(-2.23)"
   ]
  },
  {
   "cell_type": "markdown",
   "metadata": {},
   "source": [
    "What is P(Z < 1.52) ?"
   ]
  },
  {
   "cell_type": "code",
   "execution_count": 76,
   "metadata": {},
   "outputs": [
    {
     "data": {
      "text/plain": [
       "0.9357445121810641"
      ]
     },
     "execution_count": 76,
     "metadata": {},
     "output_type": "execute_result"
    }
   ],
   "source": [
    "# find total using simple form\n",
    "scipy.stats.norm(0,1).cdf(1.52)"
   ]
  },
  {
   "cell_type": "code",
   "execution_count": 77,
   "metadata": {},
   "outputs": [
    {
     "name": "stdout",
     "output_type": "stream",
     "text": [
      "0.9712834401839981\n",
      "0.8159398746532405\n",
      "0.15534356553075768\n"
     ]
    }
   ],
   "source": [
    "# What is P(0.9 < Z < 1.9) ?\n",
    "A=scipy.stats.norm(0,1).cdf(1.9)\n",
    "B=scipy.stats.norm(0,1).cdf(0.9)\n",
    "print(A)\n",
    "print(B)\n",
    "c=A-B\n",
    "print(c)"
   ]
  },
  {
   "cell_type": "markdown",
   "metadata": {},
   "source": [
    "PLot graph using Matplotlib and show the Normal Distribution"
   ]
  },
  {
   "cell_type": "code",
   "execution_count": 78,
   "metadata": {},
   "outputs": [
    {
     "data": {
      "text/plain": [
       "1.486719514734298e-07"
      ]
     },
     "execution_count": 78,
     "metadata": {},
     "output_type": "execute_result"
    },
    {
     "data": {
      "image/png": "[encoded data removed]",
      "text/plain": [
       "<Figure size 432x288 with 1 Axes>"
      ]
     },
     "metadata": {
      "needs_background": "light"
     },
     "output_type": "display_data"
    }
   ],
   "source": [
    "npdf = stats.norm(50,10)\n",
    "x = range(0,100)\n",
    "plt.plot(x, npdf.pdf(x), 'k-', lw=2)\n",
    "npdf.pdf(0)"
   ]
  },
  {
   "cell_type": "markdown",
   "metadata": {},
   "source": [
    "<center><h1>Confidence Interval</h1></center>"
   ]
  },
  {
   "cell_type": "markdown",
   "metadata": {},
   "source": [
    "### Case- 1:- Variance is known"
   ]
  },
  {
   "cell_type": "markdown",
   "metadata": {},
   "source": [
    "### Example:-\n",
    "A sample of 11 circuits from a normal population has a mean resistance of 2.20 ohms.  We know from past testing that the population standard deviation is 0.35 ohms.  Determine a 95% confidence interval for the true mean resistance of the population.\n"
   ]
  },
  {
   "cell_type": "markdown",
   "metadata": {},
   "source": [
    "Solution:-these example is under known variance.\n",
    "<img src=\"http://knowledgehills.com/content/images/Six-Sigma/Six-Sigma-Z-Confidence-Interval-Means-Formula1.gif\"/>\n"
   ]
  },
  {
   "cell_type": "markdown",
   "metadata": {},
   "source": [
    "<img src=\"https://www.statisticshowto.datasciencecentral.com/wp-content/uploads/2014/12/ci95.png\"/>"
   ]
  },
  {
   "cell_type": "code",
   "execution_count": 79,
   "metadata": {},
   "outputs": [
    {
     "name": "stdout",
     "output_type": "stream",
     "text": [
      "Confidence Interval:- (1.9931670182940682, 2.406832981705932)\n"
     ]
    }
   ],
   "source": [
    "#Mean Interval Estimation using Normal Distribution\n",
    "import math\n",
    "size_of_sample=11\n",
    "standard_deviation=0.35\n",
    "poe=2.20\n",
    "standard_error=standard_deviation/math.sqrt(size_of_sample)\n",
    "critical_value=scipy.stats.norm.ppf(0.025)\n",
    "moe=critical_value*standard_error\n",
    "CI=(poe+moe,poe-moe)\n",
    "print(\"Confidence Interval:-\",CI)\n",
    "\n"
   ]
  },
  {
   "cell_type": "code",
   "execution_count": 80,
   "metadata": {},
   "outputs": [
    {
     "name": "stdout",
     "output_type": "stream",
     "text": [
      "Confidence Interval:- (25.877157979701813, 33.12284202029819)\n",
      "lower: 25.87715797970181 \n",
      "Upper: 33.12284202029819\n"
     ]
    }
   ],
   "source": [
    "#Mean Interval Estimation using Normal Distribution\n",
    "import statsmodels.stats.api as sms\n",
    "x = range(10,50)\n",
    "ci=scipy.stats.norm.interval(0.95, loc = np.mean(x), scale = scipy.stats.sem(x))\n",
    "lower, upper = sms.DescrStatsW(x).zconfint_mean(alpha = 0.05)\n",
    "print(\"Confidence Interval:-\",ci)\n",
    "print(\"lower:\",lower,\"\\nUpper:\",upper)"
   ]
  },
  {
   "cell_type": "markdown",
   "metadata": {},
   "source": [
    "### Case- 2:- Variance is Unknown"
   ]
  },
  {
   "cell_type": "markdown",
   "metadata": {},
   "source": [
    "<img src=\"http://www.six-sigma-material.com/images/CIMeanExampleCalculation.JPG\"/>"
   ]
  },
  {
   "cell_type": "code",
   "execution_count": 81,
   "metadata": {},
   "outputs": [
    {
     "name": "stdout",
     "output_type": "stream",
     "text": [
      "lower: 25.761212100370575 \n",
      "Upper: 33.23878789962942\n"
     ]
    }
   ],
   "source": [
    "\n",
    "#Mean Interval Estimation using t dist\n",
    "# add most useful things degree of freedome=n-1\n",
    "import numpy as np\n",
    "import scipy.stats\n",
    "import statsmodels.stats.api as sms\n",
    "x = range(10,50)\n",
    "scipy.stats.t.interval(0.95, len(x) - 1, loc = np.mean(x), scale = scipy.stats.sem(x))\n",
    "Lower, Upper = sms.DescrStatsW(x).tconfint_mean(alpha = 0.05)\n",
    "print(\"lower:\",Lower,\"\\nUpper:\",Upper)"
   ]
  },
  {
   "cell_type": "markdown",
   "metadata": {},
   "source": [
    "<center><h1>Hypothesis Testing</h1></center>"
   ]
  },
  {
   "cell_type": "markdown",
   "metadata": {},
   "source": [
    "A (statistical) hypothesis is a statement or claim about a population parameter (not\n",
    "about a sample statistic):<br>\n",
    "Ex) The mean electric bill per household of this city is μ = $132.\n",
    "The Mean weight of chocolate bars manufactured in a factory is 3 ounces."
   ]
  },
  {
   "cell_type": "markdown",
   "metadata": {},
   "source": [
    "#### Hypothesis testing\n",
    "    A procedure leading to a decision about a hypothesis based on a random sample"
   ]
  },
  {
   "cell_type": "markdown",
   "metadata": {},
   "source": [
    "#### Null  Hypothesis  \n",
    "(H0)  states the assumption to be tested.\tA hypothesis testing begins  with the assumption that H0 is true"
   ]
  },
  {
   "cell_type": "markdown",
   "metadata": {},
   "source": [
    "#### Alternative Hypothesis \n",
    "(H1) is the opposite of the null hypothesis. It is the hypothesis  that the researcher is trying to prove.\n",
    "\n",
    "Two-sided Alternative Hypothesis\n"
   ]
  },
  {
   "cell_type": "markdown",
   "metadata": {},
   "source": [
    "### Case- 1`:- Variance is known(Using Z -Distribution)"
   ]
  },
  {
   "cell_type": "markdown",
   "metadata": {},
   "source": [
    "### Example (using Critical value & P-value)\n",
    "To test the claim that the mean weight of chocolate bars manufactured in a  factory is 3 ounces, we weighed 100 chocolate bars and the average weight was 2.84.  Suppose that, from past records, the standard deviation is known to be 0.8.\n"
   ]
  },
  {
   "cell_type": "markdown",
   "metadata": {},
   "source": [
    "### 1.State the null and alternative hypotheses\n",
    "H0: μ = 3\tH1: μ ≠ 3\t(two-sided test)\n"
   ]
  },
  {
   "cell_type": "markdown",
   "metadata": {},
   "source": [
    "### 2.Choose the desired level of significance\n",
    "Suppose that  =0 .05 is chosen for this test\n"
   ]
  },
  {
   "cell_type": "markdown",
   "metadata": {},
   "source": [
    "### 3.Determine the test statistic\n",
    "σ is known so this is a Z-test\n",
    "<img src=\"https://image.slidesharecdn.com/z-test-170412150226/95/ztest-with-examples-4-638.jpg?cb=1546230216\"/>"
   ]
  },
  {
   "cell_type": "code",
   "execution_count": 83,
   "metadata": {},
   "outputs": [
    {
     "name": "stdout",
     "output_type": "stream",
     "text": [
      "Test_STatistic -2.0000000000000018\n"
     ]
    }
   ],
   "source": [
    "Z = (2.84 - 3) / (0.8/math.sqrt(100))\n",
    "print(\"Test_STatistic\",Z)"
   ]
  },
  {
   "cell_type": "markdown",
   "metadata": {},
   "source": [
    "### 4.Find the critical values and determine the rejection region(s)\n",
    "For  = 0.05 , the critical alpha/2=0.25"
   ]
  },
  {
   "cell_type": "code",
   "execution_count": 84,
   "metadata": {},
   "outputs": [
    {
     "data": {
      "text/plain": [
       "1.959963984540054"
      ]
     },
     "execution_count": 84,
     "metadata": {},
     "output_type": "execute_result"
    }
   ],
   "source": [
    "scipy.stats.norm.ppf(0.025)\n",
    "# or both will use only difference in -ve and +ve sign\n",
    "scipy.stats.norm.ppf(0.975)"
   ]
  },
  {
   "cell_type": "markdown",
   "metadata": {},
   "source": [
    "Reject H0 if z0 < -1.96 or z0 > 1.96"
   ]
  },
  {
   "cell_type": "markdown",
   "metadata": {},
   "source": [
    "### 5.Reach a decision and interpret the result\n",
    "Since z0 = -2.0 < -1.96, you reject the null hypothesis\n",
    "That is, there is sufficient evidence that the mean weight of chocolate bars is not equal to 3."
   ]
  },
  {
   "cell_type": "markdown",
   "metadata": {},
   "source": [
    "### Aproach-ii Using P-Value"
   ]
  },
  {
   "cell_type": "markdown",
   "metadata": {},
   "source": [
    "NOTE:- <br>\n",
    "P-Value > aplha----acept.<br>\n",
    "P-Value > alpha----reject."
   ]
  },
  {
   "cell_type": "code",
   "execution_count": 85,
   "metadata": {},
   "outputs": [
    {
     "name": "stdout",
     "output_type": "stream",
     "text": [
      "P value:- 0.04550026389635839\n"
     ]
    }
   ],
   "source": [
    "# p-value = 2P(Z > lz0l ) =2P(Z>2.0) because its 2 sided so multply by 2\n",
    "P_Value=2*scipy.stats.norm.cdf(-2.0)\n",
    "print(\"P value:-\",P_Value)"
   ]
  },
  {
   "cell_type": "code",
   "execution_count": 86,
   "metadata": {},
   "outputs": [
    {
     "name": "stdout",
     "output_type": "stream",
     "text": [
      "Thus, we reject the null hypothesis\n",
      "That is, there is sufficient evidence that the mean weight of chocolate bars is not equal to 3\n"
     ]
    }
   ],
   "source": [
    "# now compare with alpha and P value\n",
    "# P-Value > aplha----acept.\n",
    "# P-Value > alpha----reject.\n",
    "alpha=0.05\n",
    "P_Value=0.04550026389635839\n",
    "if(P_Value < alpha):\n",
    "    print(\"Thus, we reject the null hypothesis\\nThat is, there is sufficient evidence that the mean weight of chocolate bars is not equal to 3\")\n",
    "else:\n",
    "    print(\"Accept Null hypothesis\")"
   ]
  },
  {
   "cell_type": "markdown",
   "metadata": {},
   "source": [
    "### Case- 2`:- Variance is Unknown(Used T-Distribution)"
   ]
  },
  {
   "cell_type": "markdown",
   "metadata": {},
   "source": [
    "### Example \n",
    "The mean cost of a hotel room in LA is said to be $168 per night. A random  sample of 25 hotels resulted in X = 172.50 and S = 15.40. Test at the = 0.05 level  Assuming the data are normally distributed.\n"
   ]
  },
  {
   "cell_type": "markdown",
   "metadata": {},
   "source": [
    "### 1.State the null and alternative hypotheses\n",
    "H0: μ = 168\tH1: μ != 168\n"
   ]
  },
  {
   "cell_type": "markdown",
   "metadata": {},
   "source": [
    "### 2.Choose the desired level of significance\n",
    "Suppose that  =0 .05 is chosen for this test\n"
   ]
  },
  {
   "cell_type": "markdown",
   "metadata": {},
   "source": [
    "### 3.Determine the test statistic\n",
    "σ is Unknown so this is a T-test\n",
    "<img src=\"https://image1.slideserve.com/1517587/the-formula-for-the-test-statistic-with-n.jpg\"/>"
   ]
  },
  {
   "cell_type": "code",
   "execution_count": 87,
   "metadata": {},
   "outputs": [
    {
     "name": "stdout",
     "output_type": "stream",
     "text": [
      "T Statistic 1.461038961038961\n"
     ]
    }
   ],
   "source": [
    "import math\n",
    "Mu=168\n",
    "n=25\n",
    "s=15.04\n",
    "alpha=0.05\n",
    "xbar=172.50\n",
    "\n",
    "T=(172.50-168)/((15.40)/math.sqrt(25))\n",
    "print(\"T Statistic\",T)"
   ]
  },
  {
   "cell_type": "markdown",
   "metadata": {},
   "source": [
    "### 4.Find the critical values and determine the rejection region(s)\n",
    "For  = 0.05 , the critical alpha/2=0.25"
   ]
  },
  {
   "cell_type": "code",
   "execution_count": 88,
   "metadata": {},
   "outputs": [
    {
     "name": "stdout",
     "output_type": "stream",
     "text": [
      "Critical Value:- 2.0638985616280205\n"
     ]
    }
   ],
   "source": [
    "# degree of freedome=n-1\n",
    "dof=25-1\n",
    "alpha=0.05 \n",
    "al=0.05/2   # because its two sided\n",
    "# scipy.stats.t.ppf(alpha,degree of freedom)\n",
    "critical_Value=stats.t.ppf(0.975,dof)\n",
    "print(\"Critical Value:-\",critical_Value)"
   ]
  },
  {
   "cell_type": "markdown",
   "metadata": {},
   "source": [
    "Critical Values: t0.025, 24 = ± 2.0639<br>\n",
    "Reject H0 if\tt0>2.0639 or t0<-2.0639\n"
   ]
  },
  {
   "cell_type": "markdown",
   "metadata": {},
   "source": [
    "### 5.Reach a decision and interpret the result\n",
    "Since t0= 1.4960106382978724 < 2.0638985616280205,<br> \n",
    "Since t0 does not fall in the rejection region, we cannot reject H0.<br>\n",
    "That is, there is sufficient evidence"
   ]
  },
  {
   "cell_type": "markdown",
   "metadata": {},
   "source": [
    "### Aproach-2 Using P-Value"
   ]
  },
  {
   "cell_type": "markdown",
   "metadata": {},
   "source": [
    "NOTE:- <br>\n",
    "P-Value > aplha----acept.<br>\n",
    "P-Value > alpha----reject."
   ]
  },
  {
   "cell_type": "code",
   "execution_count": 89,
   "metadata": {},
   "outputs": [
    {
     "name": "stdout",
     "output_type": "stream",
     "text": [
      "P-Values: 0.1569743731561739\n"
     ]
    }
   ],
   "source": [
    "P_V=1-stats.t.cdf(1.461038961038961,24)\n",
    "P_Value=P_V*2  # because its two sides\n",
    "print(\"P-Values:\",P_Value)"
   ]
  },
  {
   "cell_type": "code",
   "execution_count": 114,
   "metadata": {},
   "outputs": [
    {
     "name": "stdout",
     "output_type": "stream",
     "text": [
      "Thus, we Accept the null hypothesis.Because P-Value gratter than alpha\n",
      "That is, there is sufficient evidence.\n"
     ]
    }
   ],
   "source": [
    "# now compare with alpha and P value\n",
    "# P-Value > aplha----acept.\n",
    "# P-Value > alpha----reject.\n",
    "alpha=0.05\n",
    "P_Value=0.1569743731561739\n",
    "if(P_Value > alpha):\n",
    "    print(\"Thus, we Accept the null hypothesis.Because P-Value gratter than alpha\\nThat is, there is sufficient evidence.\")\n",
    "else:\n",
    "    print(\"Reject Null hypothesis\")"
   ]
  },
  {
   "cell_type": "markdown",
   "metadata": {},
   "source": [
    "<center><h2>CHi -Square</h2></center>\n"
   ]
  },
  {
   "cell_type": "markdown",
   "metadata": {},
   "source": [
    "Interference on the variance of a Normal Population.A standard normal deviate is a random sample from the standard normal distribution. The Chi Square distribution is the distribution of the sum of squared standard normal deviates. The degrees of freedom of the distribution is equal to the number of standard normal deviates being summed.<br>\n",
    "H0: s2 = s02<br>\n",
    "H1: s2 != s02<br>\n",
    "where s02  is a specified constant.<br>\n",
    "Sampling from a normal distribution with unknown mean m and unknown variance s2, the quantity\n",
    "\n"
   ]
  },
  {
   "cell_type": "markdown",
   "metadata": {},
   "source": [
    "<img src=\"https://www.empirical-methods.hslu.ch/files/2017/02/calculating-the-chi-square-test-statistic-for-variance.png\"/>"
   ]
  },
  {
   "cell_type": "markdown",
   "metadata": {},
   "source": [
    "#### Example:\n",
    " An automatic filling machine is used to fill bottles with liquid detergent.  A random sample of 20 bottles results in a sample variance of fill volume of s2 = 0.0153 (fluid ounces)2.  If the variance of fill volume exceeds 0.01 (fluid ounces)2, an unacceptable proportion of bottles will be underfilled and overfilled.  Is there evidence in the sample data to suggest that the manufacturer has a problem with underfilled and overfilled bottles?  Use a = 0.05, and assume that fill volume has a normal distribution."
   ]
  },
  {
   "cell_type": "markdown",
   "metadata": {},
   "source": [
    "### 1: parameter of interest----> population of Variance"
   ]
  },
  {
   "cell_type": "markdown",
   "metadata": {},
   "source": [
    "### 2.State the null and alternative hypotheses\n",
    "H0:s2=0.01<br>\n",
    "H1:s2>0.01 \n",
    "Note:- this is the one sided."
   ]
  },
  {
   "cell_type": "markdown",
   "metadata": {},
   "source": [
    "### 3.Determine the test statistic\n",
    "σ is Unknown so this is a T-test\n",
    "<img src=\"https://www.empirical-methods.hslu.ch/files/2017/02/calculating-the-chi-square-test-statistic-for-variance.png\"/>"
   ]
  },
  {
   "cell_type": "code",
   "execution_count": 111,
   "metadata": {},
   "outputs": [
    {
     "name": "stdout",
     "output_type": "stream",
     "text": [
      "Test statistic: 29.07\n"
     ]
    }
   ],
   "source": [
    "alpha=0.05\n",
    "n=20\n",
    "sample=0.0153\n",
    "sigma=0.01\n",
    "x2=(19*sample)/sigma\n",
    "print(\"Test statistic:\",x2)"
   ]
  },
  {
   "cell_type": "markdown",
   "metadata": {},
   "source": [
    "### 4.Find the critical values and determine the rejection region(s)\n",
    "For  = 0.05"
   ]
  },
  {
   "cell_type": "code",
   "execution_count": 110,
   "metadata": {},
   "outputs": [
    {
     "data": {
      "text/plain": [
       "30.14352720564616"
      ]
     },
     "execution_count": 110,
     "metadata": {},
     "output_type": "execute_result"
    }
   ],
   "source": [
    "# in calculation of critical value in chi sqaure his taking two parameter.\n",
    "# scipy.stats.chi2.ppf(test statistics,degree of freedome)\n",
    "scipy.stats.chi2.ppf(0.95,19)"
   ]
  },
  {
   "cell_type": "markdown",
   "metadata": {},
   "source": [
    "### 5.Reach a decision and interpret the result\n",
    "Because x2=29.07<x2(0.0153)=30.14<br> \n",
    "Accept the Null Hypothesis(H0)\n",
    "Since t0 does not fall in the rejection region, we cannot reject H0.<br>\n",
    "That is, there is sufficient evidence"
   ]
  },
  {
   "cell_type": "markdown",
   "metadata": {},
   "source": [
    "### Aproach-2 Using P-Value"
   ]
  },
  {
   "cell_type": "markdown",
   "metadata": {},
   "source": [
    "NOTE:- <br>\n",
    "P-Value > aplha----acept.<br>\n",
    "P-Value < alpha----reject."
   ]
  },
  {
   "cell_type": "code",
   "execution_count": 2,
   "metadata": {},
   "outputs": [
    {
     "name": "stdout",
     "output_type": "stream",
     "text": [
      "P_Value: 0.9351079950606133\n"
     ]
    }
   ],
   "source": [
    "P_Value=scipy.stats.chi2.cdf(29.07,19)\n",
    "print(\"P_Value:\",P_Value)"
   ]
  },
  {
   "cell_type": "code",
   "execution_count": 3,
   "metadata": {},
   "outputs": [
    {
     "name": "stdout",
     "output_type": "stream",
     "text": [
      "Thus, we Accept the null hypothesis.Because P-Value gratter than alpha\n",
      "That is, there is sufficient evidence.\n"
     ]
    }
   ],
   "source": [
    "# now compare with alpha and P value\n",
    "# P-Value > aplha----acept.\n",
    "# P-Value < alpha----reject.\n",
    "alpha=0.05\n",
    "P_Value=0.9351079950606133\n",
    "if(P_Value > alpha):\n",
    "    print(\"Thus, we Accept the null hypothesis.Because P-Value gratter than alpha\\nThat is, there is sufficient evidence.\")\n",
    "else:\n",
    "    print(\"Reject Null hypothesis\")"
   ]
  },
  {
   "cell_type": "markdown",
   "metadata": {},
   "source": [
    "<center><h1>Hypothesis Testing On Two Population</h1></center>"
   ]
  },
  {
   "cell_type": "markdown",
   "metadata": {},
   "source": [
    "#### Example:\n",
    "A high school math teacher claims that students in her class will score higher on the math portion of the ACT then students in a colleague's math class. The mean ACT math score for 49 students in her class is 22.1 and the standard deviation is 4.8. The mean ACT math score for 44 of the colleague's students is 19.8 and the standard deviation is t 5.4. At alpha = 0.10, can the teacher's claim be supported? Conduct the 5 steps hypothesis test and state your conclusion As an aid in the establishment of personnel requirements, the director of a hospital wishes to estimate the mean number of people who are admitted to the emergency room during a 24-hour period. The director randomly selects 24 different 24-hour periods and determines the number of admissions for each. For this sample, the mean is 19.8. The standard deviation is known to be 5. Find a 95% confidence interval for estimating the mean number of admissions per 24-hour period. Assume that systolic blood pressure (SBP) for healthy adults is normally distributed with a mean of 120 mm Hg and standard deviation of 20 mm Hg. What sample size is needed so that 95% of sample means are between 116 mmHg and 124 mmHg?<br>\n",
    "x1bar=22.1  ,alpha=0.10<br>\n",
    "x2bar=19.08 ,<br>\n",
    "n1=49  ,s1=4.8  ,<br>\n",
    "n2=44  ,s2=5.4  ,"
   ]
  },
  {
   "cell_type": "markdown",
   "metadata": {},
   "source": [
    "### 1.State the null and alternative hypotheses\n",
    "H0:Mu1<=mu2<br>\n",
    "H1:mu1>mu2 <br>\n",
    "Note:- this is the one sided.<br>\n",
    "NOTE:- in this case we assuming that mu1<=mu1  so mu1-mu2=0"
   ]
  },
  {
   "cell_type": "markdown",
   "metadata": {},
   "source": [
    "### 3.Determine the Standard Error\n",
    "<img src=\"https://i.stack.imgur.com/W5GDJ.png\"/>"
   ]
  },
  {
   "cell_type": "code",
   "execution_count": 121,
   "metadata": {},
   "outputs": [
    {
     "name": "stdout",
     "output_type": "stream",
     "text": [
      "Standard Error 1.0643924813525911\n"
     ]
    }
   ],
   "source": [
    "SE=math.sqrt((4.8)**2/49+(5.4)**2/44)\n",
    "print(\"Standard Error\",SE)"
   ]
  },
  {
   "cell_type": "markdown",
   "metadata": {},
   "source": [
    "### 3.Determine the test statistic\n",
    "σ is known so this is a Z-test\n",
    "<img src=\"http://www.stat.yale.edu/Courses/1997-98/101/zstat2.gif\"/>"
   ]
  },
  {
   "cell_type": "code",
   "execution_count": 124,
   "metadata": {},
   "outputs": [
    {
     "name": "stdout",
     "output_type": "stream",
     "text": [
      "The Standardized Test Statistic: 2.1608570525387822\n"
     ]
    }
   ],
   "source": [
    "Z=((22.1-19.8)-0)/SE\n",
    "print(\"The Standardized Test Statistic:\",Z)"
   ]
  },
  {
   "cell_type": "markdown",
   "metadata": {},
   "source": [
    "### 4.Find the critical values and determine the rejection region(s)\n",
    "For  = 0.10"
   ]
  },
  {
   "cell_type": "code",
   "execution_count": 126,
   "metadata": {},
   "outputs": [
    {
     "name": "stdout",
     "output_type": "stream",
     "text": [
      "Critical Value 1.2815515655446004\n"
     ]
    }
   ],
   "source": [
    "Critical_Value=scipy.stats.norm.ppf(0.90)\n",
    "print(\"Critical Value\",Critical_Value)"
   ]
  },
  {
   "cell_type": "markdown",
   "metadata": {},
   "source": [
    "### 5.Reach a decision and interpret the result\n",
    "The critical value =1.28 and Z0=2.162 so zo in rejection region<br>\n",
    "Reject the Null Hypothesis(H0) and  Alternative Hypothesis<br>\n",
    "Since Z0 does fall in the rejection region, we cannot accept Null Hypothesis(H0).<br>\n",
    "That is, there is sufficient evidence"
   ]
  },
  {
   "cell_type": "markdown",
   "metadata": {},
   "source": [
    "<center><h3>Two Population Hypothesis Testing  (T-Distribution)</h3></center>"
   ]
  },
  {
   "cell_type": "markdown",
   "metadata": {},
   "source": [
    "NOTE:<br>\n",
    "1.if your sample size are less than or equal or close to 30 so used T-Distribution.<br>\n",
    "2.In T-Distributin have two cases.<br>\n",
    "   <h1>Case:-1</h1> Equal Variance(means that var1 is close to var2 like var1=11,var2=12,,var1=15,var2=17<br>\n",
    "          Var1=var2<br>\n",
    "          M1-M2=0\n",
    "          <center><img src=\"https://image.slidesharecdn.com/small-sampling-theory-presentation1-1196880262123343-4/95/small-sampling-theory-presentation1-9-728.jpg?cb=1196851463\"/></center>   \n",
    "     <br>\n",
    "   <h1>Case:-2</h1> Not Equal Variance(means that var1 is not equal  to var2 like var1=11,var2=30,,var1=25,var2=50)<br>\n",
    "          Var1!=var2\n",
    "                    "
   ]
  },
  {
   "cell_type": "markdown",
   "metadata": {},
   "source": [
    "<center><img src=\"https://image.slidesharecdn.com/small-sampling-theory-presentation1-1196880262123343-4/95/small-sampling-theory-presentation1-10-728.jpg?cb=1196851463\"/></center>"
   ]
  },
  {
   "cell_type": "code",
   "execution_count": null,
   "metadata": {},
   "outputs": [],
   "source": []
  }
 ],
 "metadata": {
  "kernelspec": {
   "display_name": "Python 3",
   "language": "python",
   "name": "python3"
  },
  "language_info": {
   "codemirror_mode": {
    "name": "ipython",
    "version": 3
   },
   "file_extension": ".py",
   "mimetype": "text/x-python",
   "name": "python",
   "nbconvert_exporter": "python",
   "pygments_lexer": "ipython3",
   "version": "3.7.3"
  }
 },
 "nbformat": 4,
 "nbformat_minor": 2
}
