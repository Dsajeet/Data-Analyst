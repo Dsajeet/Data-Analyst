{
 "cells": [
  {
   "cell_type": "markdown",
   "metadata": {},
   "source": [
    "## <center>Statistics Assignment 1 to 4</center>"
   ]
  },
  {
   "cell_type": "markdown",
   "metadata": {},
   "source": [
    "## Assignment 1"
   ]
  },
  {
   "cell_type": "code",
   "execution_count": 3,
   "metadata": {},
   "outputs": [],
   "source": [
    "import pandas as pd\n",
    "import scipy.stats"
   ]
  },
  {
   "cell_type": "markdown",
   "metadata": {},
   "source": [
    "#### Problem Statement 1:\n",
    "You survey households in your area to find the average rent they are paying. Find the\n",
    "standard deviation from the following data: <br>\n",
    "$1550, $1700, $900, $850, $1000, $950."
   ]
  },
  {
   "cell_type": "code",
   "execution_count": 2,
   "metadata": {},
   "outputs": [
    {
     "name": "stdout",
     "output_type": "stream",
     "text": [
      "mean: 1158.3333333333333\n",
      "Variance: 112847.22222222223\n",
      "standard deviation: 335.92740617910624\n"
     ]
    }
   ],
   "source": [
    "rent=[1550, 1700, 900,850, 1000,950]\n",
    "\n",
    "#find average rent its mean\n",
    "rent_mean=sum(rent)/len(rent)\n",
    "print(\"mean:\",rent_mean)\n",
    "\n",
    "# now calculate standard deviation so i need varince\n",
    "diff_mean=list(map(lambda x:(x-rent_mean)**2, rent))\n",
    "Variance=sum(diff_mean)/len(rent)\n",
    "print(\"Variance:\",Variance)\n",
    "\n",
    "standard_deviation=Variance**0.5\n",
    "print(\"standard deviation:\",standard_deviation)\n"
   ]
  },
  {
   "cell_type": "markdown",
   "metadata": {},
   "source": [
    "#### Problem Statement 2:\n",
    "Find the variance for the following set of data representing trees in California (heights in\n",
    "feet):<br>\n",
    "3, 21, 98, 203, 17, 9"
   ]
  },
  {
   "cell_type": "code",
   "execution_count": 4,
   "metadata": {},
   "outputs": [
    {
     "name": "stdout",
     "output_type": "stream",
     "text": [
      "mean 58.5\n",
      "mean_diif: [3080.25, 1406.25, 1560.25, 20880.25, 1722.25, 2450.25]\n",
      "variance: 5183.25\n"
     ]
    }
   ],
   "source": [
    "tree=[3, 21, 98, 203, 17, 9]\n",
    "tree_mean=sum(tree)/len(tree)\n",
    "print(\"mean\",tree_mean)\n",
    "\n",
    "mean_diif=list(map(lambda x:(x-tree_mean)**2,tree))\n",
    "print(\"mean_diif:\",mean_diif)\n",
    "\n",
    "variance=sum(mean_diif)/len(tree)\n",
    "print(\"variance:\",variance)"
   ]
  },
  {
   "cell_type": "markdown",
   "metadata": {},
   "source": [
    "#### Problem Statement 3:\n",
    "In a class on 100 students, 80 students passed in all subjects, 10 failed in one subject, 7\n",
    "failed in two subjects and 3 failed in three subjects. Find the probability distribution of\n",
    "the variable for number of subjects a student from the given class has failed in."
   ]
  },
  {
   "cell_type": "code",
   "execution_count": 5,
   "metadata": {},
   "outputs": [
    {
     "name": "stdout",
     "output_type": "stream",
     "text": [
      "Total number of students in the class : 100\n",
      "Probability of failing in 0 subjects : 0.8\n",
      "Probability of failing in 1 subjects : 0.1\n",
      "Probability of failing in 2 subjects : 0.07\n",
      "Probability of failing in 3 subjects : 0.03\n"
     ]
    }
   ],
   "source": [
    "print (\"Total number of students in the class : 100\")\n",
    "print (\"Probability of failing in {} subjects : {}\".format(0, 80/100))\n",
    "print (\"Probability of failing in {} subjects : {}\".format(1, 10/100))\n",
    "print (\"Probability of failing in {} subjects : {}\".format(2, 7/100))\n",
    "print (\"Probability of failing in {} subjects : {}\".format(3, 3/100))"
   ]
  },
  {
   "cell_type": "markdown",
   "metadata": {},
   "source": [
    "## Assignment 2"
   ]
  },
  {
   "cell_type": "markdown",
   "metadata": {},
   "source": [
    "#### Problem Statement 1:\n",
    "A test is conducted which is consisting of 20 MCQs (multiple choices questions) with every\n",
    "MCQ having its four options out of which only one is correct. Determine the probability that\n",
    "a person undertaking that test has answered exactly 5 questions wrong."
   ]
  },
  {
   "cell_type": "code",
   "execution_count": 17,
   "metadata": {},
   "outputs": [
    {
     "name": "stdout",
     "output_type": "stream",
     "text": [
      "n_fact 2432902008176640000\n",
      "pass_fact 1307674368000\n",
      "fail_fact 120\n",
      "PRoabailty to get 5 wrong is :  3.4264958230778575e-06\n"
     ]
    }
   ],
   "source": [
    "from functools import reduce\n",
    "n = 20        # number of samples\n",
    "s = 5\n",
    "k = 15\n",
    "\n",
    "# Probability of success \n",
    "p = 1/4\n",
    "# Proability of Failure\n",
    "q = 1 - p\n",
    "\n",
    "# Percentage computation\n",
    "# 20!/15!(5!) * ((1/4) ** 15) * ((3/4) ** 5)\n",
    "\n",
    "array = [i for i in range(1,21)]\n",
    "n_fact = reduce(lambda x,y : x * y, array)\n",
    "print(\"n_fact\",n_fact)\n",
    "\n",
    "pass_fact = reduce(lambda x,y : x * y, array[0:15])\n",
    "print(\"pass_fact\",pass_fact)\n",
    "\n",
    "fail_fact = reduce(lambda x,y : x * y, array[0:5])\n",
    "print(\"fail_fact\",fail_fact)\n",
    "\n",
    "# Probaility of 5 failures\n",
    "prob= (n_fact/(pass_fact*fail_fact)) * (p ** k ) * (q ** s)\n",
    "print (\"PRoabailty to get 5 wrong is : \", prob)\n",
    "\n"
   ]
  },
  {
   "cell_type": "code",
   "execution_count": 22,
   "metadata": {},
   "outputs": [
    {
     "data": {
      "text/plain": [
       "3.4264958230778435e-06"
      ]
     },
     "execution_count": 22,
     "metadata": {},
     "output_type": "execute_result"
    }
   ],
   "source": [
    "# s is define exact no of wrong answer in 20 question\n",
    "# n is defind total no of question\n",
    "# q is define probability of wrong answer of question\n",
    "scipy.stats.binom.pmf(s,n,q)"
   ]
  },
  {
   "cell_type": "markdown",
   "metadata": {},
   "source": [
    "#### Problem Statement 2:\n",
    "A die marked A to E is rolled 50 times. Find the probability of getting a “D” exactly\n",
    "5 times."
   ]
  },
  {
   "cell_type": "code",
   "execution_count": 41,
   "metadata": {},
   "outputs": [
    {
     "name": "stdout",
     "output_type": "stream",
     "text": [
      "probabilty of coming D 0.2\n",
      "probability of getting a “D” exactly 5 times 0.029531204310523224\n"
     ]
    }
   ],
   "source": [
    "from scipy import stats\n",
    "import scipy\n",
    "# no of trails\n",
    "n=50\n",
    "# probabilty of coming D\n",
    "p=1/5\n",
    "print(\"probabilty of coming D\",p)\n",
    "\n",
    "# getting a “D” exactly 5 times\n",
    "# pmf=P(X=5)\n",
    "\n",
    "pro=stats.binom.pmf(5,n,p)\n",
    "print(\"probability of getting a “D” exactly 5 times\",pro)"
   ]
  },
  {
   "cell_type": "markdown",
   "metadata": {},
   "source": [
    "#### Problem Statement 3:\n",
    "Two balls are drawn at random in succession without replacement from an urn\n",
    "containing 4 red balls and 6 black balls.<br>\n",
    "Find the probabilities of all the possible outcomes."
   ]
  },
  {
   "cell_type": "code",
   "execution_count": 1,
   "metadata": {},
   "outputs": [
    {
     "name": "stdout",
     "output_type": "stream",
     "text": [
      "Probability of getting RR is  0.13333333333333336\n",
      "Probability of getting BB is  0.3333333333333333\n",
      "Probability of getting RB is  0.2666666666666667\n",
      "Probability of getting BR is  0.26666666666666666\n"
     ]
    }
   ],
   "source": [
    "print(\"Probability of getting RR is \", (4/10 * 3/9))\n",
    "print(\"Probability of getting BB is \", (6/10 * 5/9))\n",
    "print(\"Probability of getting RB is \", (4/10 * 6/9))\n",
    "print(\"Probability of getting BR is \", (6/10 * 4/9))"
   ]
  },
  {
   "cell_type": "markdown",
   "metadata": {},
   "source": [
    "## Assignment 3"
   ]
  },
  {
   "cell_type": "markdown",
   "metadata": {},
   "source": [
    "#### Problem Statement 1: \n",
    "Blood glucose levels for obese patients have a mean of 100 with a standard deviation of 15. A researcher thinks that a diet high in raw cornstarch will have a positive effect on blood glucose levels. A sample of 36 patients who have tried the raw cornstarch diet have a mean glucose level of 108. Test the hypothesis that the raw cornstarch had an effect or not."
   ]
  },
  {
   "cell_type": "markdown",
   "metadata": {},
   "source": [
    "### 1.State the null and alternative hypotheses\n",
    "H0: μ =100 \t<br>H1: μ >100\t(one-sided test)\n"
   ]
  },
  {
   "cell_type": "markdown",
   "metadata": {},
   "source": [
    "### 2.Choose the desired level of significance\n",
    "Suppose that  =0 .05 is chosen for this test\n",
    "Set up the significance level. It is not given in the problem so let’s assume it as 5% (0.05)."
   ]
  },
  {
   "cell_type": "markdown",
   "metadata": {},
   "source": [
    "### 3.Determine the test statistic\n",
    "σ is known so this is a Z-test\n",
    "<img src=\"https://image.slidesharecdn.com/z-test-170412150226/95/ztest-with-examples-4-638.jpg?cb=1546230216\"/>"
   ]
  },
  {
   "cell_type": "code",
   "execution_count": 19,
   "metadata": {},
   "outputs": [
    {
     "name": "stdout",
     "output_type": "stream",
     "text": [
      "Test statistics 3.2\n"
     ]
    }
   ],
   "source": [
    "import math\n",
    "xbar=108\n",
    "μ0=100\n",
    "σ=15\n",
    "n=36\n",
    "alpha=0.05\n",
    "z_test= (108-100)/(15/math.sqrt(36))\n",
    "print('Test statistics',z_test)\n"
   ]
  },
  {
   "cell_type": "markdown",
   "metadata": {},
   "source": [
    "### 4.Find the critical values and determine the rejection region(s)\n",
    "For  = 0.05 , the critical"
   ]
  },
  {
   "cell_type": "code",
   "execution_count": 20,
   "metadata": {},
   "outputs": [
    {
     "data": {
      "text/plain": [
       "1.959963984540054"
      ]
     },
     "execution_count": 20,
     "metadata": {},
     "output_type": "execute_result"
    }
   ],
   "source": [
    "from scipy import stats\n",
    "stats.norm.ppf(0.025)\n",
    "# or both will use only difference in -ve and +ve sign\n",
    "stats.norm.ppf(0.975)"
   ]
  },
  {
   "cell_type": "markdown",
   "metadata": {},
   "source": [
    "### 5.Reach a decision and interpret the result\n",
    "Since z0 = 3.2 < 1.96, you reject the null hypothesis.<br>\n",
    "NOTE:Z0 are in rejection Region.<br>\n",
    "That is, there is sufficient evidence that the "
   ]
  },
  {
   "cell_type": "markdown",
   "metadata": {},
   "source": [
    "### Aproach-ii Using P-Value"
   ]
  },
  {
   "cell_type": "markdown",
   "metadata": {},
   "source": [
    "NOTE:- <br>\n",
    "P-Value > aplha----acept.<br>\n",
    "P-Value < alpha----reject."
   ]
  },
  {
   "cell_type": "code",
   "execution_count": 21,
   "metadata": {},
   "outputs": [
    {
     "name": "stdout",
     "output_type": "stream",
     "text": [
      "P value:- 0.0006871379379158604\n"
     ]
    }
   ],
   "source": [
    "# p-value = 2P(Z > lz0l ) =2P(Z>2.0) because its 2 sided so multply by 2\n",
    "P_Value=(1-(stats.norm.cdf(3.2)))\n",
    "print(\"P value:-\",P_Value)"
   ]
  },
  {
   "cell_type": "code",
   "execution_count": 22,
   "metadata": {},
   "outputs": [
    {
     "name": "stdout",
     "output_type": "stream",
     "text": [
      "Thus, we reject the null hypothesis\n",
      "That is, there is sufficient evidence that the mean weight of chocolate bars is not equal to 3\n"
     ]
    }
   ],
   "source": [
    "# now compare with alpha and P value\n",
    "# P-Value > aplha----acept.\n",
    "# P-Value < alpha----reject.\n",
    "alpha=0.05\n",
    "P_Value=0.04550026389635839\n",
    "if(P_Value < alpha):\n",
    "    print(\"Thus, we reject the null hypothesis\\nThat is, there is sufficient evidence that the mean weight of chocolate bars is not equal to 3\")\n",
    "else:\n",
    "    print(\"Accept Null hypothesis\")"
   ]
  },
  {
   "cell_type": "markdown",
   "metadata": {},
   "source": [
    "### 1. \n",
    "In one state, 52% of the voters are Republicans, and 48% are Democrats. In a second state, 47% of the voters are Republicans, and 53% are Democrats. Suppose a simple random sample of 100 voters are surveyed from each state.<br>\n",
    "         What is the probability that the survey will show a greater percentage of Republican voters in the second state        than in the first state?"
   ]
  },
  {
   "cell_type": "markdown",
   "metadata": {},
   "source": [
    "#### 2. \n",
    "You take the SAT and score 1100. The mean score for the SAT is 1026 and the standard deviation is 209. How well did you score on the test compared to the average test taker?"
   ]
  },
  {
   "cell_type": "markdown",
   "metadata": {},
   "source": [
    "### 2.4. Problem Statement: STATISTICS 4"
   ]
  },
  {
   "cell_type": "markdown",
   "metadata": {},
   "source": [
    "#### 1. \n",
    "Is gender independent of education level? A random sample of 395 people were\n",
    "surveyed and each person was asked to report the highest education level they\n",
    "obtained. The data that resulted from the survey is summarized in the\n",
    "following table:"
   ]
  },
  {
   "cell_type": "markdown",
   "metadata": {},
   "source": [
    "|        |HIGH-SCHOOL|  BACHELOR |    MASTER |    PH.D   |    TOTAL  |\n",
    "|--------|-----------|-----------|-----------|-----------|-----------|\n",
    "| FEMALE |     60    |     54    |     60    |     60    |    201    |\n",
    "|  MALE  |     40    |     44    |     40    |     40    |    194    |\n",
    "| TOTAL  |    100    |     98    |     99    |     98    |    395    |"
   ]
  },
  {
   "cell_type": "markdown",
   "metadata": {},
   "source": [
    "#### Question: \n",
    "Are gender and education level dependent at 5% level of\n",
    "significance? In other words, given the data collected above, is there a\n",
    "relationship between the gender of an individual and the level of education\n",
    "that they have obtained?"
   ]
  },
  {
   "cell_type": "markdown",
   "metadata": {},
   "source": [
    "#### 2. \n",
    "Using the following data, perform a one-way analysis of variance using α=.05.\n",
    "Write up the results in APA format."
   ]
  },
  {
   "cell_type": "markdown",
   "metadata": {},
   "source": [
    "|            |                      |\n",
    "|------------|----------------------|\n",
    "|   Group1:  |  51, 45, 33, 45, 67  |\n",
    "|   Group2:  |  23, 43, 23, 43, 45  |\n",
    "|   Group3:  |  56, 76, 74, 87, 56  |"
   ]
  },
  {
   "cell_type": "code",
   "execution_count": 6,
   "metadata": {},
   "outputs": [],
   "source": [
    "Group1 = [51, 45, 33, 45, 67] \n",
    "Group2 = [23, 43, 23, 43, 45] \n",
    "Group3 = [56, 76, 74, 87, 56]"
   ]
  },
  {
   "cell_type": "code",
   "execution_count": 7,
   "metadata": {},
   "outputs": [
    {
     "data": {
      "text/plain": [
       "11.070682002478437"
      ]
     },
     "execution_count": 7,
     "metadata": {},
     "output_type": "execute_result"
    }
   ],
   "source": [
    "np.array(Group1).std()"
   ]
  },
  {
   "cell_type": "code",
   "execution_count": 8,
   "metadata": {},
   "outputs": [
    {
     "data": {
      "text/plain": [
       "10.150862032359617"
      ]
     },
     "execution_count": 8,
     "metadata": {},
     "output_type": "execute_result"
    }
   ],
   "source": [
    "np.array(Group2).std()"
   ]
  },
  {
   "cell_type": "code",
   "execution_count": 9,
   "metadata": {},
   "outputs": [
    {
     "data": {
      "text/plain": [
       "12.106196760337244"
      ]
     },
     "execution_count": 9,
     "metadata": {},
     "output_type": "execute_result"
    }
   ],
   "source": [
    "np.array(Group3).std()"
   ]
  },
  {
   "cell_type": "code",
   "execution_count": 11,
   "metadata": {},
   "outputs": [],
   "source": [
    "_, pvalue = scipy.stats.f_oneway(Group1, Group2, Group3)"
   ]
  },
  {
   "cell_type": "code",
   "execution_count": 12,
   "metadata": {},
   "outputs": [
    {
     "name": "stdout",
     "output_type": "stream",
     "text": [
      "With 95% confidene interval, variances of all groups are same with pvalue = 0.0030597541434430556\n"
     ]
    }
   ],
   "source": [
    "if(pvalue < 0.025):\n",
    "    print('With 95% confidene interval, variances of all groups are same with pvalue = {}'.format(pvalue))\n",
    "else:\n",
    "    print('With 95% confidene interval, variances of all groups are different with pvalue = {}'.format(pvalue))"
   ]
  },
  {
   "cell_type": "markdown",
   "metadata": {},
   "source": [
    "<center><h2>ANOVA</h2></center>"
   ]
  },
  {
   "cell_type": "markdown",
   "metadata": {},
   "source": [
    "#### 3. \n",
    "Calculate F Test for given 10, 20, 30, 40, 50 and 5,10,15, 20, 25.<br>\n",
    "For 10, 20, 30, 40, 50:"
   ]
  },
  {
   "cell_type": "code",
   "execution_count": 5,
   "metadata": {},
   "outputs": [
    {
     "name": "stdout",
     "output_type": "stream",
     "text": [
      "F test result is:\n"
     ]
    },
    {
     "data": {
      "text/plain": [
       "F_onewayResult(statistic=3.6, pvalue=0.0943497728424377)"
      ]
     },
     "execution_count": 5,
     "metadata": {},
     "output_type": "execute_result"
    }
   ],
   "source": [
    "#Solution:\n",
    "# F-test = Variance of (10,20,30,40,50) / Variance of (5,10,15,20,25)\n",
    "# F-test is determined using the Python Scipy library as shown below using the 1-way ANOVA function\n",
    "\n",
    "import numpy as np\n",
    "import scipy.stats as st\n",
    "a=[10,20,30,40,50]\n",
    "b=[5,10,15,20,25]\n",
    "print ('F test result is:')\n",
    "st.f_oneway(a,b)"
   ]
  }
 ],
 "metadata": {
  "kernelspec": {
   "display_name": "Python 3",
   "language": "python",
   "name": "python3"
  },
  "language_info": {
   "codemirror_mode": {
    "name": "ipython",
    "version": 3
   },
   "file_extension": ".py",
   "mimetype": "text/x-python",
   "name": "python",
   "nbconvert_exporter": "python",
   "pygments_lexer": "ipython3",
   "version": "3.7.3"
  }
 },
 "nbformat": 4,
 "nbformat_minor": 2
}
