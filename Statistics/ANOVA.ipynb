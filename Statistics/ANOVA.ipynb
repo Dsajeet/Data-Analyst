{
 "cells": [
  {
   "cell_type": "markdown",
   "metadata": {},
   "source": [
    "<center><h1>WHY ANOVA</h1></center>"
   ]
  },
  {
   "cell_type": "markdown",
   "metadata": {},
   "source": [
    "Scenario\n",
    " 1. A clinical trial is run to 3 weight loss program. The outcomes of interest is weight loss, defined as the difference in weight measured at  the start of the study(baseline) and weight measured at end of the study(8 week),measured in pounds. Three popular weight loss program are considered. The 1st is a low calories diet, 2nd is a low fat diet and 3rd is a low carbohydrate diet. For comparison purpose, a forth group is considered fourth group is considered as a control group. A total of twenty patients agree to participate in the study and are randomly assigned to one of the four diet groups. Weights are measured at baseline and patients are counseled on the proper implementation of the assigned diet (with the exception of the control group). After 8 weeks, each patient's weight is again measured and the difference in weights is computed.\n",
    " 2. Students from different colleges take the same exam You want to see if one college outperforms the other.\n",
    " 3. A group of psychiatric patients are trying three different therapies: counseling. medication and biofeedback. You want to see if one therapy is better than the others\n",
    "\n"
   ]
  },
  {
   "cell_type": "markdown",
   "metadata": {},
   "source": [
    "<center><h1>ANOVA</h1></center>"
   ]
  },
  {
   "cell_type": "markdown",
   "metadata": {},
   "source": [
    "Statistical techniques specially designed to test whether the means of more than 2 quantitative populations are equal."
   ]
  },
  {
   "cell_type": "markdown",
   "metadata": {},
   "source": [
    "<img src='https://sixsigmastats.com/wp-content/uploads/2018/09/anova6.png'/>"
   ]
  },
  {
   "cell_type": "markdown",
   "metadata": {},
   "source": [
    "#### Example: 1\n",
    "    sample obtained from normal populations with equal variances. Test the hypothesis that sample means are equals.\n"
   ]
  },
  {
   "cell_type": "markdown",
   "metadata": {},
   "source": [
    "|       |   x1  |   x2   |  x3   |\n",
    "|-------|-------|--------|-------|\n",
    "|       |   8   |   7    |  12   |\n",
    "|       |   10  |   5    |  9    |\n",
    "|       |   7   |   10   |  13   |\n",
    "|       |   14  |   9    |  12   |\n",
    "|       |   11  |   9    |  14   |\n",
    "| Total |   50  |   40   |   60  |\n",
    "| Mean  | M1=10 |  M2=8  | M3=12 |"
   ]
  },
  {
   "cell_type": "markdown",
   "metadata": {},
   "source": [
    "### 1.State the null and alternative hypotheses\n",
    "H0: μ1 = μ2 = μ3\tH1: At least 2 sdamples have different Means.\n"
   ]
  },
  {
   "cell_type": "markdown",
   "metadata": {},
   "source": [
    "### 2.Choose the desired level of significance\n",
    "Suppose that  =0 .05 is chosen for this test\n"
   ]
  },
  {
   "cell_type": "markdown",
   "metadata": {},
   "source": [
    "### 3.Determine the test statistic(F-Statistics)\n",
    "<img src='https://digensia.files.wordpress.com/2012/07/an6.png'/>\n",
    "The F-statistic simply a ratio of two variances. Variances are a measure of dispersion or how  the data are scattered from the mean. Larger values represent greater than dispersion.<br>\n",
    "\n",
    "F-test to test the overall significance for a regression model, to compare the fits of different  models to test specific regression terms, and to test the equality of means.<br>\n",
    "Note: A-T test will tell  you if a single variable is statistically significant and an F test will tell you if a group of variables are jointly significant.<br>"
   ]
  },
  {
   "cell_type": "markdown",
   "metadata": {},
   "source": [
    "#### Step-1-Calculating variance between samples(SSC)/(SSB)"
   ]
  },
  {
   "cell_type": "code",
   "execution_count": 164,
   "metadata": {},
   "outputs": [
    {
     "data": {
      "text/plain": [
       "20.0"
      ]
     },
     "execution_count": 164,
     "metadata": {},
     "output_type": "execute_result"
    }
   ],
   "source": [
    "import pandas as pd\n",
    "data={'x1': [8,10,7,14,11],'x2': [7,5,10,9,9],'x3':[12,9,13,12,14]}\n",
    "df=pd.DataFrame(data=data)\n",
    "\n",
    "# 1.Calculate the mean of each Sample.\n",
    "df.describe()\n",
    "n1=5\n",
    "n2=5\n",
    "n3=5\n",
    "# k no of samples\n",
    "k=3\n",
    "x1_mean=df['x1'].mean()\n",
    "x2_mean=df['x2'].mean()\n",
    "x3_mean=df['x3'].mean()\n",
    "Grand_avg=((x1_mean+x2_mean+x3_mean)/3)\n",
    "# Square these deviations & obtain total which will give sum of square between samples(SSC).\n",
    "ssc_ssb=(n1*(x1_mean-Grand_avg)**2)+(n2*(x2_mean-Grand_avg)**2)+(n2*(x3_mean-Grand_avg)**2)\n",
    "\n",
    "# Divide  the total obtained in step 4 by the degree of freedom to calculate the mean sum of square between samples(MSC).\n",
    "MSC=ssc_ssb/(k-1)\n",
    "MSC"
   ]
  },
  {
   "cell_type": "markdown",
   "metadata": {},
   "source": [
    "#### Step-1-Calculating variance within samples(SSE)/(SSW)"
   ]
  },
  {
   "cell_type": "code",
   "execution_count": 165,
   "metadata": {},
   "outputs": [],
   "source": [
    "# each sample of mean already calculated.\n",
    "# Sum of square within a sample\n",
    "l1=[8,10,7,14,11]\n",
    "l2=[7,5,10,9,9]\n",
    "l3=[12,9,13,12,14]\n",
    "x1=[]\n",
    "x2=[]\n",
    "x3=[]\n",
    "def Sse1(l1):\n",
    "    for i in l1:\n",
    "        x1.append((i-x1_mean)**2)\n",
    "\n",
    "def Sse2(l2):\n",
    "    for i1 in l2:\n",
    "        x2.append((i1-x2_mean)**2)\n",
    "\n",
    "def Sse3(l3):\n",
    "    for i2 in l3:\n",
    "        x3.append((i2-x3_mean)**2)\n",
    "# sse_ssw=((x1_mean)**2)+((x2_mean-Grand_avg)**2)+((x3_mean-Grand_avg)**2)\n",
    "# l=[8,10,7,14,11]\n",
    "# Sse(l)\n",
    "# for i, j in df.iterrows(): \n",
    "#     print(i, j) \n",
    "#     print()"
   ]
  },
  {
   "cell_type": "code",
   "execution_count": 166,
   "metadata": {},
   "outputs": [],
   "source": [
    "Sse1(l1)\n",
    "Sse2(l2)\n",
    "Sse3(l3)"
   ]
  },
  {
   "cell_type": "code",
   "execution_count": 167,
   "metadata": {},
   "outputs": [],
   "source": [
    "data1={'x1': x1,'x2': x2,'x3':x3}\n",
    "new_df=pd.DataFrame(data=data1)\n",
    "x1_s=new_df['x1'].sum()\n",
    "x2_s=new_df['x2'].sum()\n",
    "x3_s=new_df['x3'].sum()\n",
    "# Total no of sample\n",
    "n=15 \n",
    "\n",
    "# Divide  the total obtained in 3rd step by the degrees of freedom to calculate the mean sum of square within samples(MSC).\n",
    "MSE=((x1_s+x2_s+x3_s)/(n-k)) \n"
   ]
  },
  {
   "cell_type": "code",
   "execution_count": 168,
   "metadata": {},
   "outputs": [
    {
     "data": {
      "text/plain": [
       "4.0"
      ]
     },
     "execution_count": 168,
     "metadata": {},
     "output_type": "execute_result"
    }
   ],
   "source": [
    "# F-Statistics=MSC/MSE\n",
    "F_Statistics=MSC/MSE\n",
    "F_Statistics"
   ]
  },
  {
   "cell_type": "markdown",
   "metadata": {},
   "source": [
    "### 4.Find the critical values and determine the rejection region(s)\n",
    "For  = 0.05"
   ]
  },
  {
   "cell_type": "code",
   "execution_count": 171,
   "metadata": {},
   "outputs": [
    {
     "data": {
      "text/plain": [
       "3.8852938346523933"
      ]
     },
     "execution_count": 171,
     "metadata": {},
     "output_type": "execute_result"
    }
   ],
   "source": [
    "import scipy.stats\n",
    "# scipy.stats.f.ppf(alpha,dfn1,dfn2)\n",
    "# dfn1- means digree of freedome k-1\n",
    "# dfn2- means digree of freedome n-k\n",
    "critical_value=scipy.stats.f.ppf(0.95,2,12)\n",
    "critical_value"
   ]
  },
  {
   "cell_type": "markdown",
   "metadata": {},
   "source": [
    "### 5.Reach a decision and interpret the result\n",
    "Because F_test=4.0>Critical_value=3.8852938346523933<br> \n",
    "Reject the Null Hypothesis(H0)\n",
    "Since F test does fall in the rejection region, we reject H0.<br>\n",
    "That is, there is sufficient evidence"
   ]
  },
  {
   "cell_type": "markdown",
   "metadata": {},
   "source": [
    "### Aproach-2 Using P-Value"
   ]
  },
  {
   "cell_type": "markdown",
   "metadata": {},
   "source": [
    "NOTE:- <br>\n",
    "P-Value > aplha----acept.<br>\n",
    "P-Value < alpha----reject."
   ]
  },
  {
   "cell_type": "code",
   "execution_count": 182,
   "metadata": {},
   "outputs": [],
   "source": [
    "# if you test statistics in +ve value than 1-cdf\n",
    "P_value=1-scipy.stats.f.cdf(4,2,12)"
   ]
  },
  {
   "cell_type": "code",
   "execution_count": 183,
   "metadata": {},
   "outputs": [
    {
     "name": "stdout",
     "output_type": "stream",
     "text": [
      "Reject Null hypothesis\n"
     ]
    }
   ],
   "source": [
    "\n",
    "alpha=0.05\n",
    "P_Value=0.04665600000000003\n",
    "if(P_Value > alpha):\n",
    "    print(\"Thus, we Accept the null hypothesis.Because P-Value gratter than alpha\\nThat is, there is sufficient evidence.\")\n",
    "else:\n",
    "    print(\"Reject Null hypothesis\")"
   ]
  },
  {
   "cell_type": "code",
   "execution_count": null,
   "metadata": {},
   "outputs": [],
   "source": []
  }
 ],
 "metadata": {
  "kernelspec": {
   "display_name": "Python 3",
   "language": "python",
   "name": "python3"
  },
  "language_info": {
   "codemirror_mode": {
    "name": "ipython",
    "version": 3
   },
   "file_extension": ".py",
   "mimetype": "text/x-python",
   "name": "python",
   "nbconvert_exporter": "python",
   "pygments_lexer": "ipython3",
   "version": "3.7.3"
  }
 },
 "nbformat": 4,
 "nbformat_minor": 2
}
