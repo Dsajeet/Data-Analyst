{
 "cells": [
  {
   "cell_type": "markdown",
   "metadata": {},
   "source": [
    "### Oracle database Connectivity"
   ]
  },
  {
   "cell_type": "code",
   "execution_count": 23,
   "metadata": {},
   "outputs": [
    {
     "name": "stderr",
     "output_type": "stream",
     "text": [
      "ERROR:root:File `'db2.ipynb.py'` not found.\n"
     ]
    }
   ],
   "source": [
    "%run db2.ipynb"
   ]
  },
  {
   "cell_type": "code",
   "execution_count": 24,
   "metadata": {},
   "outputs": [],
   "source": [
    "# WORKING perfectly in python cmd\n",
    "\n",
    "\n",
    "import cx_Oracle\n",
    "\n",
    "conn=cx_Oracle.connect(\"system/toor@localhost/xe\")\n",
    "cursor = connection.cursor()\n",
    "cursor.execute(\"\"\"select * from employees\"\"\")\n",
    "data = cursor.fetchone()\n",
    "print(data)"
   ]
  },
  {
   "cell_type": "code",
   "execution_count": 6,
   "metadata": {},
   "outputs": [],
   "source": [
    "import cx_Oracle  \n",
    "import pandas as pd \n",
    "\n",
    "### 1. make the connection\n",
    "### 2. Create handler - Cursor\n",
    "### 3. Write quesry and shoot it\n",
    "### 4. To get the results - fetchall(), fetchone(), fetchmany()"
   ]
  },
  {
   "cell_type": "code",
   "execution_count": null,
   "metadata": {},
   "outputs": [],
   "source": [
    "# myscript.py\n",
    "\n",
    "from __future__ import print_function\n",
    "\n",
    "import cx_Oracle\n",
    "\n",
    "# Connect as user \"hr\" with password \"welcome\" to the \"orclpdb1\" service running on this computer.\n",
    "connection = cx_Oracle.connect(\"system/toor@localhost/xe\")\n",
    "\n",
    "# cursor = connection.cursor()\n",
    "# cursor.execute(\"\"\"\n",
    "#         SELECT first_name, last_name\n",
    "#         FROM employees\"\"\")\n",
    "# for fname, lname in cursor:\n",
    "#     print(\"Values:\", fname, lname)"
   ]
  },
  {
   "cell_type": "code",
   "execution_count": null,
   "metadata": {},
   "outputs": [],
   "source": [
    "input\n",
    "### Open database connection\n",
    "mydb = cx_Oracle.connect(host='http://127.0.0.1:8080',user='system',passwd='tiger',db='acadgild')\n",
    "### # prepare a cursor object using cursor() method\n",
    "cursor = cx_Oracle.cursor()"
   ]
  },
  {
   "cell_type": "code",
   "execution_count": null,
   "metadata": {},
   "outputs": [],
   "source": [
    "# execute SQL query using execute() method.\n",
    "cursor.execute(\"SELECT VERSION()\")\n",
    "data = cursor.fetchone()\n",
    "print(data)"
   ]
  },
  {
   "cell_type": "code",
   "execution_count": null,
   "metadata": {},
   "outputs": [],
   "source": [
    "# disconnect from server\n",
    "mydb.close()"
   ]
  }
 ],
 "metadata": {
  "kernelspec": {
   "display_name": "Python 3",
   "language": "python",
   "name": "python3"
  },
  "language_info": {
   "codemirror_mode": {
    "name": "ipython",
    "version": 3
   },
   "file_extension": ".py",
   "mimetype": "text/x-python",
   "name": "python",
   "nbconvert_exporter": "python",
   "pygments_lexer": "ipython3",
   "version": "3.7.3"
  }
 },
 "nbformat": 4,
 "nbformat_minor": 2
}
