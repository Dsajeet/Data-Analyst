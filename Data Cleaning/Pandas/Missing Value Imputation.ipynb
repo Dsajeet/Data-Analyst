{
 "cells": [
  {
   "cell_type": "code",
   "execution_count": 2,
   "metadata": {},
   "outputs": [
    {
     "data": {
      "text/plain": [
       "['bb_data.csv',\n",
       " 'dob.csv',\n",
       " 'LoanPredictionTesting.csv',\n",
       " 'LoanPredictionTraining.csv',\n",
       " 'Sample - Superstore (1).xls',\n",
       " 'sample_tsv.txt',\n",
       " 'superstore_np.xls',\n",
       " 'winequality-white.csv',\n",
       " 'x.npy']"
      ]
     },
     "execution_count": 2,
     "metadata": {},
     "output_type": "execute_result"
    }
   ],
   "source": [
    "import pandas as pd\n",
    "import numpy as np\n",
    "import os\n",
    "os.chdir('C:\\\\Users\\\\gunjan.thareja\\\\gunjan\\\\Education\\\\acadgild\\\\acadgild python batch 2\\\\Datasets')\n",
    "os.listdir()\n",
    "help(pd.DataFrame.)"
   ]
  },
  {
   "cell_type": "code",
   "execution_count": 3,
   "metadata": {},
   "outputs": [
    {
     "data": {
      "text/plain": [
       "ApplicantIncome      4805.599455\n",
       "CoapplicantIncome    1569.577657\n",
       "LoanAmount            136.132597\n",
       "Loan_Amount_Term      342.537396\n",
       "Credit_History          0.825444\n",
       "dtype: float64"
      ]
     },
     "execution_count": 3,
     "metadata": {},
     "output_type": "execute_result"
    }
   ],
   "source": [
    "df = pd.read_csv('LoanPredictionTesting.csv')\n",
    "df.head()"
   ]
  },
  {
   "cell_type": "code",
   "execution_count": 3,
   "metadata": {},
   "outputs": [
    {
     "data": {
      "text/plain": [
       "Loan_ID               0\n",
       "Gender               11\n",
       "Married               0\n",
       "Dependents           10\n",
       "Education             0\n",
       "Self_Employed        23\n",
       "ApplicantIncome       0\n",
       "CoapplicantIncome     0\n",
       "LoanAmount            5\n",
       "Loan_Amount_Term      6\n",
       "Credit_History       29\n",
       "Property_Area         0\n",
       "dtype: int64"
      ]
     },
     "execution_count": 3,
     "metadata": {},
     "output_type": "execute_result"
    }
   ],
   "source": [
    "# count the missing values column wise\n",
    "print(df.isnull().sum())\n",
    "df.dtypes"
   ]
  },
  {
   "cell_type": "code",
   "execution_count": null,
   "metadata": {},
   "outputs": [],
   "source": [
    "print(\"\\nDropping any rows with a NaN value\\n\",'-'*35, sep='')\n",
    "print(df.dropna(axis=0))"
   ]
  },
  {
   "cell_type": "code",
   "execution_count": null,
   "metadata": {},
   "outputs": [],
   "source": [
    "print(\"\\nDropping any column with a NaN value\\n\",'-'*35, sep='')\n",
    "print(df.dropna(axis=1))\n"
   ]
  },
  {
   "cell_type": "code",
   "execution_count": null,
   "metadata": {},
   "outputs": [],
   "source": [
    "print(\"\\nFilling values with a default value\\n\",'-'*35, sep='')\n",
    "print(df.fillna(value='FILL VALUE'))"
   ]
  },
  {
   "cell_type": "code",
   "execution_count": 9,
   "metadata": {},
   "outputs": [
    {
     "data": {
      "text/plain": [
       "1.0    279\n",
       "0.0     59\n",
       "Name: Credit_History, dtype: int64"
      ]
     },
     "execution_count": 9,
     "metadata": {},
     "output_type": "execute_result"
    }
   ],
   "source": [
    "df.shape[0]\n",
    "df[\"Credit_History\"].value_counts()"
   ]
  },
  {
   "cell_type": "code",
   "execution_count": 11,
   "metadata": {},
   "outputs": [
    {
     "data": {
      "text/plain": [
       "Loan_ID                object\n",
       "Gender               category\n",
       "Married                object\n",
       "Dependents           category\n",
       "Education              object\n",
       "Self_Employed        category\n",
       "ApplicantIncome         int64\n",
       "CoapplicantIncome       int64\n",
       "LoanAmount            float64\n",
       "Loan_Amount_Term     category\n",
       "Credit_History       category\n",
       "Property_Area          object\n",
       "dtype: object"
      ]
     },
     "execution_count": 11,
     "metadata": {},
     "output_type": "execute_result"
    }
   ],
   "source": [
    "#Convert the data types of Loan Amount Term and Credit History\n",
    "df[\"Loan_Amount_Term\"] = pd.Categorical(df[\"Loan_Amount_Term\"])\n",
    "df[\"Credit_History\"] = pd.Categorical(df[\"Credit_History\"])\n",
    "df[\"Gender\"] = pd.Categorical(df[\"Gender\"])\n",
    "df[\"Dependents\"] = pd.Categorical(df[\"Dependents\"])\n",
    "df[\"Self_Employed\"] = pd.Categorical(df[\"Self_Employed\"])\n",
    "df.dtypes"
   ]
  },
  {
   "cell_type": "code",
   "execution_count": 12,
   "metadata": {},
   "outputs": [
    {
     "data": {
      "text/plain": [
       "Male      286\n",
       "Female     70\n",
       "Name: Gender, dtype: int64"
      ]
     },
     "execution_count": 12,
     "metadata": {},
     "output_type": "execute_result"
    }
   ],
   "source": [
    "df[\"Gender\"].value_counts()\n"
   ]
  },
  {
   "cell_type": "code",
   "execution_count": 13,
   "metadata": {},
   "outputs": [
    {
     "data": {
      "text/plain": [
       "0     200\n",
       "2      59\n",
       "1      58\n",
       "3+     40\n",
       "Name: Dependents, dtype: int64"
      ]
     },
     "execution_count": 13,
     "metadata": {},
     "output_type": "execute_result"
    }
   ],
   "source": [
    "df[\"Dependents\"].value_counts()"
   ]
  },
  {
   "cell_type": "code",
   "execution_count": 65,
   "metadata": {},
   "outputs": [
    {
     "data": {
      "text/plain": [
       "(367, 12)"
      ]
     },
     "execution_count": 65,
     "metadata": {},
     "output_type": "execute_result"
    }
   ],
   "source": [
    "df[\"Self_Employed\"].value_counts()\n",
    "df.shape"
   ]
  },
  {
   "cell_type": "code",
   "execution_count": 9,
   "metadata": {},
   "outputs": [
    {
     "name": "stdout",
     "output_type": "stream",
     "text": [
      "Columns before drop: 13\n",
      "Index(['Loan_ID', 'Gender', 'Married', 'Dependents', 'Education',\n",
      "       'Self_Employed', 'ApplicantIncome', 'CoapplicantIncome', 'LoanAmount',\n",
      "       'Loan_Amount_Term', 'Credit_History', 'Property_Area', 'Null_Column'],\n",
      "      dtype='object')\n",
      "      \n",
      "Columns after drop: 12\n",
      "Index(['Loan_ID', 'Gender', 'Married', 'Dependents', 'Education',\n",
      "       'Self_Employed', 'ApplicantIncome', 'CoapplicantIncome', 'LoanAmount',\n",
      "       'Loan_Amount_Term', 'Credit_History', 'Property_Area'],\n",
      "      dtype='object')\n"
     ]
    }
   ],
   "source": [
    "# various methods to drop\n",
    "# this method can be applied irrespective of data type\n",
    "df[\"Null_Column\"] = None\n",
    "print(\"Columns before drop:\",df.shape[1])\n",
    "print(df.columns)\n",
    "df.dropna(how = \"all\",axis =1,inplace = True)\n",
    "print(\"      \")# drop rows if all values are null\n",
    "print(\"Columns after drop:\",df.shape[1])\n",
    "print(df.columns)\n"
   ]
  },
  {
   "cell_type": "code",
   "execution_count": null,
   "metadata": {},
   "outputs": [],
   "source": [
    "df.dropna(how = \"all\",axis =0)# drop rows if all values are null"
   ]
  },
  {
   "cell_type": "code",
   "execution_count": 73,
   "metadata": {},
   "outputs": [
    {
     "name": "stdout",
     "output_type": "stream",
     "text": [
      "Total rows and columns (367, 12) \n",
      " column list :\n",
      " Index(['Loan_ID', 'Gender', 'Married', 'Dependents', 'Education',\n",
      "       'Self_Employed', 'ApplicantIncome', 'CoapplicantIncome', 'LoanAmount',\n",
      "       'Loan_Amount_Term', 'Credit_History', 'Property_Area'],\n",
      "      dtype='object')\n",
      "-------------------------\n",
      "Total rows and columns (367, 11) \n",
      " column list:\n",
      "  Index(['Loan_ID', 'Gender', 'Married', 'Dependents', 'Education',\n",
      "       'Self_Employed', 'ApplicantIncome', 'CoapplicantIncome', 'LoanAmount',\n",
      "       'Loan_Amount_Term', 'Property_Area'],\n",
      "      dtype='object')\n"
     ]
    }
   ],
   "source": [
    "\n",
    "print(\"Total rows and columns\", df.shape,\"\\n\",\"column list :\\n\",df.columns)\n",
    "df.dropna(thresh = 340,axis =1,inplace = True )# drop column if non missing value less than threshold value\n",
    "print(\"-\"*25)\n",
    "print(\"Total rows and columns\", df.shape ,\"\\n\",\"column list:\\n \",df.columns)"
   ]
  },
  {
   "cell_type": "code",
   "execution_count": null,
   "metadata": {},
   "outputs": [],
   "source": []
  },
  {
   "cell_type": "code",
   "execution_count": 57,
   "metadata": {},
   "outputs": [
    {
     "name": "stderr",
     "output_type": "stream",
     "text": [
      "C:\\Users\\gunjan.thareja\\AppData\\Local\\Continuum\\anaconda3\\lib\\site-packages\\ipykernel_launcher.py:3: FutureWarning: 'argmax' is deprecated, use 'idxmax' instead. The behavior of 'argmax'\n",
      "will be corrected to return the positional maximum in the future.\n",
      "Use 'series.values.argmax' to get the position of the maximum now.\n",
      "  This is separate from the ipykernel package so we can avoid doing imports until\n"
     ]
    },
    {
     "data": {
      "text/plain": [
       "Loan_ID               0\n",
       "Gender                0\n",
       "Married               0\n",
       "Dependents            0\n",
       "Education             0\n",
       "Self_Employed         0\n",
       "ApplicantIncome       0\n",
       "CoapplicantIncome     0\n",
       "LoanAmount            0\n",
       "Loan_Amount_Term      6\n",
       "Credit_History       29\n",
       "Property_Area         0\n",
       "dtype: int64"
      ]
     },
     "execution_count": 57,
     "metadata": {},
     "output_type": "execute_result"
    }
   ],
   "source": [
    "#mode imputation for categorical columns\n",
    "def mode_func(x):\n",
    "    return(x.value_counts().argmax())\n",
    "\n",
    "df[\"Dependents\"].fillna(mode_func(df[\"Dependents\"]),inplace = True)\n",
    "df[\"Gender\"].fillna(mode_func(df[\"Gender\"]),inplace = True)\n",
    "df[\"Self_Employed\"].fillna(mode_func(df[\"Self_Employed\"]),inplace = True)\n",
    "df.isnull().sum()"
   ]
  },
  {
   "cell_type": "code",
   "execution_count": 55,
   "metadata": {},
   "outputs": [
    {
     "name": "stdout",
     "output_type": "stream",
     "text": [
      "IQR   56.5\n",
      "Lower boundary   16.25\n",
      "Upper Boundary   242.25\n",
      "Total outlier data points based on IQR Rule: 18\n"
     ]
    }
   ],
   "source": [
    "# Check the distribution of loan amount\n",
    "# IQR - for outlier detection\n",
    "Q1 = df[\"LoanAmount\"].quantile(0.25)\n",
    "Q3 = df[\"LoanAmount\"].quantile(0.75)\n",
    "IQR = Q3 - Q1\n",
    "print(\"IQR  \",IQR)\n",
    "print(\"Lower boundary  \",(Q1 - 1.5 * IQR))\n",
    "print(\"Upper Boundary  \",(Q3 +  1.5 * IQR))\n",
    "#Check for Outliers\n",
    "IQR_check =(df[\"LoanAmount\"] < (Q1 - 1.5 * IQR)) |(df[\"LoanAmount\"] > (Q3 + 1.5 * IQR))\n",
    "print(\"Total outlier data points based on IQR Rule:\",df.loc[(df[\"LoanAmount\"] < (Q1 - 1.5 * IQR)) |(df[\"LoanAmount\"] > (Q3 + 1.5 * IQR)),:].shape[0])"
   ]
  },
  {
   "cell_type": "code",
   "execution_count": 45,
   "metadata": {},
   "outputs": [],
   "source": [
    "#Missing value Treatment:\n",
    "#Mean\n",
    "mean_loan_amt = np.mean(df[\"LoanAmount\"]) \n",
    "df[\"LoanAmount\"].fillna(mean_loan_amt,inplace = True)\n",
    "\n",
    "#Alternative\n",
    "# fill the missing vale using np.where\n",
    "df[\"LoanAmount\"] = np.where(df[\"LoanAmount\"].isnull() == True,np.mean(df[\"LoanAmount\"]),df[\"LoanAmount\"])\n",
    "\n"
   ]
  },
  {
   "cell_type": "code",
   "execution_count": 56,
   "metadata": {},
   "outputs": [
    {
     "data": {
      "text/plain": [
       "Loan_ID               0\n",
       "Gender                0\n",
       "Married               0\n",
       "Dependents            0\n",
       "Education             0\n",
       "Self_Employed         0\n",
       "ApplicantIncome       0\n",
       "CoapplicantIncome     0\n",
       "LoanAmount            0\n",
       "Loan_Amount_Term      6\n",
       "Credit_History       29\n",
       "Property_Area         0\n",
       "dtype: int64"
      ]
     },
     "execution_count": 56,
     "metadata": {},
     "output_type": "execute_result"
    }
   ],
   "source": [
    "#Median\n",
    "median_loan_amt = np.median(df[\"LoanAmount\"])\n",
    "df[\"LoanAmount\"].fillna(median_loan_amt,inplace = True)\n",
    "df[\"LoanAmount\"] = np.where(df[\"LoanAmount\"].isnull() == True,np.median(df[\"LoanAmount\"]),df[\"LoanAmount\"])\n",
    "df.isnull().sum()"
   ]
  }
 ],
 "metadata": {
  "kernelspec": {
   "display_name": "Python 3",
   "language": "python",
   "name": "python3"
  },
  "language_info": {
   "codemirror_mode": {
    "name": "ipython",
    "version": 3
   },
   "file_extension": ".py",
   "mimetype": "text/x-python",
   "name": "python",
   "nbconvert_exporter": "python",
   "pygments_lexer": "ipython3",
   "version": "3.7.3"
  }
 },
 "nbformat": 4,
 "nbformat_minor": 2
}
